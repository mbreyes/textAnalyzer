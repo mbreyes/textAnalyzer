{
 "cells": [
  {
   "cell_type": "markdown",
   "metadata": {},
   "source": [
    "# Introdução\n",
    "\n",
    "O objetivo desse programa é procurar por disciplinas do catálogo da UFABC e identificar disciplinas similares.\n",
    "\n",
    "The stop-words module was installed from: https://pypi.python.org/pypi/stop-words#installation\n",
    "and using the command: pip install stop-words \n"
   ]
  },
  {
   "cell_type": "code",
   "execution_count": 2,
   "metadata": {
    "collapsed": false
   },
   "outputs": [],
   "source": [
    "#from remac import remover_acentos\n",
    "import string\n",
    "from stop_words import get_stop_words\n",
    "import csv\n",
    "import numpy as np"
   ]
  },
  {
   "cell_type": "markdown",
   "metadata": {},
   "source": [
    "Primeiramente obtitve o catálogo de disciplinas em formato excel, gentilmente fornecido pela Prof. Paula Tiba e sua equipe da Pró-Reitoria de Graduação. Exportei para formato csv, colocando como delimitador de campo \"tab\". O nome do arquivo é "
   ]
  },
  {
   "cell_type": "code",
   "execution_count": 3,
   "metadata": {
    "collapsed": true
   },
   "outputs": [],
   "source": [
    "filename = 'catalogo2015.csv'\n",
    "colSigla  = 0                     # coluna que contém as siglas das disciplinas\n",
    "colEmenta = 4                     # coluna com as ementas\n",
    "stopWords = ['a', 'e', 'o', 'as', 'os','ao','aos', 'da', 'de','do', 'das', 'dos', 'em', 'dos', 'para','na', 'no', 'nos', 'com', 'um','uma', 'por', 'à', 'sobre']"
   ]
  },
  {
   "cell_type": "markdown",
   "metadata": {},
   "source": [
    "Para a identificação das disciplinas, compilamos todas as palavras de cada ementa e colocamos em um dicionário onde a chave é a palavra e o valor é o número de ocorrências da palavra na ementa. "
   ]
  },
  {
   "cell_type": "code",
   "execution_count": 4,
   "metadata": {
    "collapsed": true
   },
   "outputs": [],
   "source": [
    "def sortFreqDict(freqdict):\n",
    "    aux = [(freqdict[key], key) for key in freqdict]\n",
    "    aux.sort()\n",
    "    aux.reverse()\n",
    "    return aux"
   ]
  },
  {
   "cell_type": "code",
   "execution_count": 5,
   "metadata": {
    "collapsed": false
   },
   "outputs": [],
   "source": [
    "# removendo as palavras muito frequentes como artigos e preposições \n",
    "# as stopWords foram definidas no início da rotina\n",
    "def removeStopWords(texto,stopWords):\n",
    "    for sw in stopWords:                           # Laço para cada stopWord\n",
    "        texto = texto.replace(' '+sw+' ',\" \")      # Remove as stopWords uma a uma. Foram incluídos espaços para evitar \n",
    "                                                   # remover partes das palavras\n",
    "    \n",
    "    return texto\n",
    "    "
   ]
  },
  {
   "cell_type": "code",
   "execution_count": 6,
   "metadata": {
    "collapsed": true
   },
   "outputs": [],
   "source": [
    "def limpaTexto(texto,stopWords):\n",
    "    texto = texto.translate(string.maketrans(\"\",\"\"), string.punctuation)\n",
    "    texto = texto.lower()\n",
    "    texto = removeStopWords(texto,stopWords)\n",
    "    return texto"
   ]
  },
  {
   "cell_type": "code",
   "execution_count": 7,
   "metadata": {
    "collapsed": false
   },
   "outputs": [],
   "source": [
    "def criaVetor(texto):\n",
    "    palavras = texto.split()                              # quebra a string em uma lista de palavras\n",
    "    contagemPalavras = []                                 # inicia lista de palavras\n",
    "    for w in palavras:                                   # loop para cada palavra\n",
    "        contagemPalavras.append(palavras.count(w))        # conta o número de vezes que cada palavra ocorre na lista\n",
    "\n",
    "    vetor =  dict(zip(palavras, contagemPalavras))        # Cria dicionário com as palavras e as respectivas contagens\n",
    "    return vetor"
   ]
  },
  {
   "cell_type": "code",
   "execution_count": 8,
   "metadata": {
    "collapsed": true
   },
   "outputs": [],
   "source": [
    "catalogo = list(csv.reader(open(filename, 'rb'), delimiter='\\t'))"
   ]
  },
  {
   "cell_type": "markdown",
   "metadata": {},
   "source": [
    "Supostamente o código abaixo funcionou melhor, mas por algum motivo foi abandonado. Vou deixar aqui para uso futuro."
   ]
  },
  {
   "cell_type": "code",
   "execution_count": 9,
   "metadata": {
    "collapsed": true
   },
   "outputs": [],
   "source": [
    "#import codecs\n",
    "#with codecs.open(filename,'r',encoding='utf8') as f:\n",
    "#    wordstring = f.read()"
   ]
  },
  {
   "cell_type": "markdown",
   "metadata": {},
   "source": [
    "Lembro que uma das alternativas que eu havia pensado era remover os acentos. Mas acho que isso se deu por problemas em usar o utf8."
   ]
  },
  {
   "cell_type": "code",
   "execution_count": 10,
   "metadata": {
    "collapsed": false
   },
   "outputs": [],
   "source": [
    "todasEmentas=''\n",
    "len(catalogo)\n",
    "for k in range(1,len(catalogo)):\n",
    "    todasEmentas = todasEmentas + ' ' + catalogo[k][colEmenta]\n",
    "\n",
    "#print todasEmentas[1:5000]     # mostrando o início das ementas\n"
   ]
  },
  {
   "cell_type": "code",
   "execution_count": 11,
   "metadata": {
    "collapsed": false
   },
   "outputs": [
    {
     "name": "stdout",
     "output_type": "stream",
     "text": [
      "contextualização histórica emergência teorias relações internacionais matrizes filosóficas realismo idealismo debate clássico realismo versus idealismo escola inglesa behaviorismo debate metodológico neoliberalismo neorrealismo teoria interdependência complexa neoinstitucionalismo cooperação conflito sociedade internacional anarquia regimes internacionais introdução sistemas acionamentos elétricos elementos sistema acionamento elétrico ponto operação estabilidade operação motora frenante sistema acionamento perdas acionamento elétrico operação controle máquinas corrente alternada tensão freqüência variáveis acionamentos elétricos conversores freqüência alimentados tensão algoritmos geração sinais pwm simulação acionamentos potência diodo tiristor gto transistor bipolar potência mosfet igbt acumulação energia fotossínteses fluxos energia ecossistemas características lenha características carvão vegetal acumulação combustíveis fósseis orig\n"
     ]
    }
   ],
   "source": [
    "# removendo pontuações e stop-words\n",
    "todasEmentasLimpo = limpaTexto(todasEmentas,stopWords)\n",
    "print todasEmentasLimpo[1:1000]\n"
   ]
  },
  {
   "cell_type": "markdown",
   "metadata": {},
   "source": [
    "## Este passo pode ser bastante demorado\n",
    "\n",
    "Nesse ponto temos uma lista (palavras) e uma lista de quantas vezes cada palavra ocorre (contagemPalavras). Vamos agora criar um dicionário com esses pares, e ordená-lo da mais frequente para a menos frequente. \n",
    "\n",
    "!!!Bastante demorado!!!! \n",
    "pode levar até 5 minutos para rodar."
   ]
  },
  {
   "cell_type": "code",
   "execution_count": 12,
   "metadata": {
    "collapsed": false
   },
   "outputs": [],
   "source": [
    "#palavras = todasEmentasLimpo.split()                  # quebra a string em uma lista de palavras\n",
    "#contagemPalavras = []                                 # inicia lista de palavras\n",
    "#for w in palavras:                                   # loop para cada palavra\n",
    "#    contagemPalavras.append(palavras.count(w))        # conta o número de vezes que cada palavra ocorre na lista\n",
    "#allPairs  =  dict(zip(palavras, contagemPalavras))    # Cria discionário com as palavras e as respectivas contagens\n",
    "allPairs  = criaVetor(todasEmentasLimpo)\n",
    "sortPairs = sortFreqDict(allPairs)                    # usa a função definida no início para ordenar em ordem decrescente"
   ]
  },
  {
   "cell_type": "code",
   "execution_count": 13,
   "metadata": {
    "collapsed": false
   },
   "outputs": [],
   "source": [
    "emptyPairs = {}\n",
    "for aux in allPairs.keys():\n",
    "    emptyPairs[aux] = 0"
   ]
  },
  {
   "cell_type": "markdown",
   "metadata": {},
   "source": [
    "Por curiosidade, vamos visualizar as palavras mais frequentes"
   ]
  },
  {
   "cell_type": "code",
   "execution_count": 14,
   "metadata": {
    "collapsed": false
   },
   "outputs": [
    {
     "name": "stdout",
     "output_type": "stream",
     "text": [
      "1: sistemas ==> 383 vezes\n",
      "2: análise ==> 260 vezes\n",
      "3: desenvolvimento ==> 204 vezes\n",
      "4: introdução ==> 193 vezes\n",
      "5: teoria ==> 175 vezes\n",
      "6: processos ==> 173 vezes\n",
      "7: técnicas ==> 170 vezes\n",
      "8: energia ==> 168 vezes\n",
      "9: políticas ==> 165 vezes\n",
      "10: modelos ==> 165 vezes\n",
      "11: trabalho ==> 163 vezes\n",
      "12: conceitos ==> 163 vezes\n",
      "13: aplicações ==> 155 vezes\n",
      "14: métodos ==> 142 vezes\n",
      "15: materiais ==> 141 vezes\n",
      "16: projeto ==> 135 vezes\n",
      "17: curso ==> 134 vezes\n",
      "18: principais ==> 132 vezes\n",
      "19: sistema ==> 128 vezes\n",
      "20: planejamento ==> 127 vezes\n"
     ]
    }
   ],
   "source": [
    "for k in range(20):\n",
    "    # just for visualization, let's see the mostr frequent words...\n",
    "    print str(k+1) + \": \" + str(sortPairs[k][1]) + ' ==> '+ str(sortPairs[k][0]) + ' vezes'\n",
    "    "
   ]
  },
  {
   "cell_type": "code",
   "execution_count": 15,
   "metadata": {
    "collapsed": false
   },
   "outputs": [],
   "source": [
    "#Abandonei essa ideia, a de apagar as palavras mais frequentes, mas vou deixar aqui caso volte a usar...\n",
    "#NRemove = int(10)\n",
    "#for k in range(NRemove):\n",
    "#    del allPairs[sortPairs[k][1]]\n",
    "#    \n",
    "#print \"Pairs\\n\" + str(allPairs)"
   ]
  },
  {
   "cell_type": "markdown",
   "metadata": {},
   "source": [
    "Gerando vetores para palavras frequentes. Tirado de http://stackoverflow.com/questions/10648490/removing-first-appearance-of-word-from-a-string"
   ]
  },
  {
   "cell_type": "code",
   "execution_count": 16,
   "metadata": {
    "collapsed": false
   },
   "outputs": [
    {
     "name": "stdout",
     "output_type": "stream",
     "text": [
      "[[0 0 0 ..., 0 0 0]\n",
      " [0 0 0 ..., 0 0 0]\n",
      " [0 0 0 ..., 0 0 0]\n",
      " ..., \n",
      " [0 0 0 ..., 0 0 0]\n",
      " [0 0 0 ..., 0 0 0]\n",
      " [0 0 0 ..., 0 0 0]]\n",
      "[ 0 33 48 ..., 25 22 29]\n",
      "\n",
      "\n",
      "[[ 0  0  0 ...,  0  0  0]\n",
      " [ 0 41  0 ...,  0  0  0]\n",
      " [ 0  0 78 ...,  0  0  0]\n",
      " ..., \n",
      " [ 0  0  0 ..., 31  5  6]\n",
      " [ 0  0  0 ...,  5 24  4]\n",
      " [ 0  0  0 ...,  6  4 31]]\n"
     ]
    }
   ],
   "source": [
    "V = np.zeros((len(catalogo), len(emptyPairs)),dtype=int)\n",
    "\n",
    "#print len(catalogo)\n",
    "\n",
    "l = len(emptyPairs)\n",
    "#print l\n",
    "\n",
    "for k in range(1,len(catalogo)):\n",
    "    estaSigla  = catalogo[k][colSigla ] \n",
    "    estaEmenta = catalogo[k][colEmenta] \n",
    "    \n",
    "    \n",
    "    estaEmentaLimpa = limpaTexto(estaEmenta,stopWords)\n",
    "    esteVetor = criaVetor(estaEmentaLimpa)\n",
    "    \n",
    "    vetorCompleto = emptyPairs.copy()\n",
    "    vetorCompleto.update(esteVetor)\n",
    "    \n",
    "    if len(vetorCompleto) != l:\n",
    "        #print estaEmentaLimpa\n",
    "    \n",
    "        #print k, len(vetorCompleto) \n",
    "        \n",
    "        s1 = set(vetorCompleto.keys())\n",
    "        s2 = set(allPairs.keys())\n",
    "        s1.difference_update(s2)\n",
    "        \n",
    "        #print s1\n",
    "        for aux in s1:\n",
    "            del vetorCompleto[aux]\n",
    "                \n",
    "    V[k][:] = np.array(vetorCompleto.values())\n",
    "    #V = np.array(vetorCompleto.values())\n",
    "        \n",
    "print V\n",
    "print np.sum(V,1)\n",
    "print '\\n'\n",
    "\n",
    "#M = np.matrixmultiply(V,V.transpose())\n",
    "M = np.inner(V,V)\n",
    "\n",
    "print M\n"
   ]
  },
  {
   "cell_type": "code",
   "execution_count": 81,
   "metadata": {
    "collapsed": false
   },
   "outputs": [
    {
     "data": {
      "text/plain": [
       "2299"
      ]
     },
     "execution_count": 81,
     "metadata": {},
     "output_type": "execute_result"
    }
   ],
   "source": [
    "(I,J) = (M>40).nonzero()\n",
    "I.size"
   ]
  },
  {
   "cell_type": "code",
   "execution_count": 99,
   "metadata": {
    "collapsed": false
   },
   "outputs": [
    {
     "data": {
      "text/plain": [
       "True"
      ]
     },
     "execution_count": 99,
     "metadata": {},
     "output_type": "execute_result"
    }
   ],
   "source": [
    "s='Trabalho de Graduação I em Engenharia Aeroespacial'\n",
    "s=s.lower().split()\n",
    "p='graduação'\n",
    "p in set(s) and 'a' not in set(s)"
   ]
  },
  {
   "cell_type": "code",
   "execution_count": 108,
   "metadata": {
    "collapsed": false,
    "scrolled": true
   },
   "outputs": [
    {
     "name": "stdout",
     "output_type": "stream",
     "text": [
      "M[ij]= 102  M[ii]= 118 M[jj]= 271 0.325348677216\n",
      "Análise Real I\n",
      "Números reais: propriedades e completeza. Seqüências e séries de números reais. Topologia da Reta: conjuntos abertos e fechados, pontos de acumulação, conjuntos compactos e conjunto de cantor. Limite de funções reais. Funções contínuas: definição, funções contínuas num intervalo, funções contínuas em conjuntos compactos e continuidade uniforme. Funções deriváveis: definição de derivada, derivada e crescimento local, funções deriváveis num intervalo, fórmula de Taylor, aplicações da derivada, concavidade e convexidade.\n",
      "\n",
      "\n",
      "Bases Matemáticas\n",
      "Elementos de Linguagem e Lógica Matemática: proposições, conectivos e quantificadores, condições necessária e suficiente. Elementos da Teoria Ingênua de Conjuntos: Conjuntos, Subconjuntos, Operações com Conjuntos: União e Intersecção. Conjuntos Numéricos: Números naturais e Indução. Números Reais. Equações e Inequações. Funções: definição e propriedades. Funções Injetoras e Sobrejetoras. Operação com Funções. Função Composta e Inversa. Funções Reais: função escada, função módulo, funções lineares, funções polinomiais, funções racionais, funções trigonométricas, funções trigonométricas inversas, funções exponenciais e funções logarítmicas. Gráficos de funções. Transformações do gráfico de uma função: translação e dilatação. Limite e Continuidade: conceito de limite de função; propriedades dos limites; Teorema do Confronto, limites laterais; limites infinitos; Continuidade; Teorema do Valor Intermediário.\n",
      "\n",
      "\n",
      "\n",
      "M[ij]= 58  M[ii]= 116 M[jj]= 92 0.315217391304\n",
      "Avaliação de Impactos Ambientais\n",
      "Histórico e bases legais do licenciamento ambiental, tipos de licenciamento ambiental segundo características dos empreendimentos. Elementos e estudos para formulação de Estudos de Impacto Ambiental (EIA), Relatório de Impacto Ambiental (RIMA) e RAP ¿ Relatório Ambiental Preliminar. Procedimentos e métodos para avaliação dos impactos ambientais. Conceitos envolvidos na identificação e formulação de medidas mitigadoras e compensatórias. Gestão dos empreendimentos licenciados. Termo de Ajustamento de Conduta (TAC) e medidas punitivas por descumprimento da legislação ambiental. Limites e desafios do processo de licenciamento ambiental.\n",
      "\n",
      "\n",
      "Modelos e Ferramentas de Gestão Ambiental\n",
      "Gestão ambiental global e regional; políticas públicas ambientais; legislação  ambiental; estratégias de gestão ambiental; modelos de gestão ambiental; tipos de organizações e seus diferentes impactos ambientais. sistemas de gestão ambiental; norma ISO 14000; auditorias ambientais; avaliação do ciclo de vida do produto; relatórios ambientais; estudos de impacto ambiental.\n",
      "\n",
      "\n",
      "\n",
      "M[ij]= 151  M[ii]= 157 M[jj]= 205 0.708435606649\n",
      "Bases Biológicas para Engenharia I\n",
      "Introdução à anatomia e fisiopatologia humana; inflamação e resposta imunológica; introdução às principais técnicas de diagnóstico e terapia. Sistema cardiovascular: anatomia, fisiologia, fisiopatologia. Técnicas de monitorização, diagnóstico e terapêutica aplicados ao sistema cardiovascular. Sistema respiratório: anatomia, fisiologia, fisiopatologia. Técnicas de monitorização, diagnóstico e terapêutica aplicados ao sistema respiratório. Sistema endócrino: Fisiopatologia da diabetes, Técnicas de monitorização, diagnóstico e terapêutica aplicados à diabetes e às outras doenças comuns do sistema endócrino.\n",
      "\n",
      "\n",
      "Bases Biológicas para Engenharia II\n",
      "Sistema digestório: anatomia, fisiologia, fisiopatologia. Técnicas de monitorização, diagnóstico e terapêutica aplicados ao sistema digestório. Sistema reprodutor: fisiopatologia e técnicas de monitorização, diagnóstico e terapêutica aplicados ao sistema reprodutor. Sistema renal: anatomia, fisiologia, fisiopatologia. Técnicas de monitorização, diagnóstico e terapêutica aplicados ao sistema renal. Sistema neuro-muscular: anatomia, fisiologia, fisiopatologia. Técnicas de monitorização, diagnóstico e terapêutica aplicados ao sistema neuro-muscular. Ergonomia; fisiologia do exercício e introdução à biomecânica.\n",
      "\n",
      "\n",
      "\n",
      "M[ij]= 98  M[ii]= 358 M[jj]= 80 0.335335195531\n",
      "Bases Conceituais da Energia\n",
      "Parte I – [Conceituação e importância] O que é energia? Aspectos históricos do conceito de energia. Energia e as 4 interações. Energia potencial, cinética, térmica, química, eólica, nuclear, solar etc. Fontes de energia primária: hídrica, eólica, nuclear, biomassa, fósseis, solar, marés e outras. Princípio da conservação da energia.\n",
      "Parte II – [Conversão] Conversão calor em trabalho, conversão de energia solar em alimentos e combustível (fotossíntese), conversão de energia nuclear em calor e conversões de energia química. Conversão de energia mecânica em elétrica e vice versa. Usinas de potência.\n",
      "Parte III – [Uso da Energia] Aspectos históricos e econômicos do uso da energia. Matriz energética e uso final de energia. Armazenamento e transporte de energia na sociedade. Impactos socioambientais da energia.\n",
      "\n",
      "\n",
      "Energia e Meio Ambiente\n",
      "Fontes de energia. Aproveitamento da água como fonte de energia. Tipos de combustíveis: petróleo, gás natural, carvão, lenha e nuclear. Combustíveis derivados da biomassa. Energia solar. Energia eólica. Formas de aproveitamento das energias naturais. Conceito de energia útil. Eletricidade e transporte. Eficiência e perdas. Usinas hidroelétricas, termelétricas convencionais e nucleares. Co-geração de eletricidade e calor. Matriz energética do Brasil. Impacto ambiental das diversas fontes e formas de conversão.\n",
      "\n",
      "\n",
      "\n",
      "M[ij]= 137  M[ii]= 358 M[jj]= 148 0.354239015552\n",
      "Bases Conceituais da Energia\n",
      "Parte I – [Conceituação e importância] O que é energia? Aspectos históricos do conceito de energia. Energia e as 4 interações. Energia potencial, cinética, térmica, química, eólica, nuclear, solar etc. Fontes de energia primária: hídrica, eólica, nuclear, biomassa, fósseis, solar, marés e outras. Princípio da conservação da energia.\n",
      "Parte II – [Conversão] Conversão calor em trabalho, conversão de energia solar em alimentos e combustível (fotossíntese), conversão de energia nuclear em calor e conversões de energia química. Conversão de energia mecânica em elétrica e vice versa. Usinas de potência.\n",
      "Parte III – [Uso da Energia] Aspectos históricos e econômicos do uso da energia. Matriz energética e uso final de energia. Armazenamento e transporte de energia na sociedade. Impactos socioambientais da energia.\n",
      "\n",
      "\n",
      "Energia, Meio Ambiente e Sociedade\n",
      "Energia: discussão de conceitos; Evolução histórica da oferta e do consumo de energia; Recursos energéticos; Uso final da energia; Análise da matriz energética brasileira e mundial; Energia e conflitos sociais. Impactos sociais dos empreendimentos energéticos; Energia e desenvolvimento: PIB, crescimento econômico, distribuição de renda, qualidade de vida, energia e emprego, curva de Kuznets, IDH, intensidade energética, modelos de desenvolvimento; Energia e meio ambiente: indicadores, contribuição das fontes, impactos ambientais locais e globais, fontes estacionárias e móveis; Eficiência energética; Tecnologias de conversão de energia; Políticas ambientais; Regulação ambiental; Políticas energéticas; Planejamento integrado de recursos.\n",
      "\n",
      "\n",
      "\n",
      "M[ij]= 194  M[ii]= 358 M[jj]= 322 0.32648599882\n",
      "Bases Conceituais da Energia\n",
      "Parte I – [Conceituação e importância] O que é energia? Aspectos históricos do conceito de energia. Energia e as 4 interações. Energia potencial, cinética, térmica, química, eólica, nuclear, solar etc. Fontes de energia primária: hídrica, eólica, nuclear, biomassa, fósseis, solar, marés e outras. Princípio da conservação da energia.\n",
      "Parte II – [Conversão] Conversão calor em trabalho, conversão de energia solar em alimentos e combustível (fotossíntese), conversão de energia nuclear em calor e conversões de energia química. Conversão de energia mecânica em elétrica e vice versa. Usinas de potência.\n",
      "Parte III – [Uso da Energia] Aspectos históricos e econômicos do uso da energia. Matriz energética e uso final de energia. Armazenamento e transporte de energia na sociedade. Impactos socioambientais da energia.\n",
      "\n",
      "\n",
      "Uso Final de Energia e Eficiência Energética\n",
      "Conservação de energia - conceitos fundamentais; auditoria energética. Formas de transformação de energia. Determinação da eficiência em sistemas energéticos. Tipos de lâmpadas. Bombas. Ventiladores. Refrigeração e ar condicionado. Caldeiras e fornos. Motores de indução trifásicos. Sistemas de aquecimento. Sistemas de utilização das energias fósseis. A energia nos sistemas de transporte. Motor a combustão interna (MCI). Motor Diesel. Uso da energia no setor industrial. Utilização do hidrogênio. O problema do aumento da demanda e os empreendimentos energéticos. Balanço energético segundo o uso de energia; segmentação do consumo de energia e detalhamento dos diferentes usos finais encontrados no Brasil e nos principais países do planeta; conceito de eficiência energética; indicadores de eficiência energética; uso eficiente de energia elétrica em iluminação, força motriz e no condicionamento ambiental; programas de conservação de energia elétrica: políticas e estratégias de combate ao desperdício de energia; sistemas de gerenciamento do uso da energia; aspectos de racionalização sob o enfoque tarifário; gerenciamento pelo lado da demanda e diagnóstico energético; gerência energética e análise econômica da conservação de energia. Qualidade dos equipamentos de usos finais. Avanços tecnológicos. Tecnologias eficientes. Uso de modelos matemáticos e simulações para avaliar a substituição de tecnologias.\n",
      "\n",
      "\n",
      "\n",
      "M[ij]= 41  M[ii]= 41 M[jj]= 41 1.0\n",
      "Biologia Reprodutiva de Plantas\n",
      "Introduzir conceitos do desenvolvimento reprodutivo de plantas. Apresentar fatores genéticos envolvidos no desenvolvimento reprodutivo de plantas. Abordar a biologia floral e ecologia da polinização das espermatófitas e suas diferentes estratégias reprodutivas, bem como as consequências destas na estrutura genética populacional, fluxo gênico e evolução da recombinação e do sexo nos vegetais.\n",
      "\n",
      "\n",
      "Biotecnologia de Plantas\n",
      "Introduzir conceitos do desenvolvimento reprodutivo de plantas. Apresentar fatores genéticos envolvidos no desenvolvimento reprodutivo de plantas. Abordar a biologia floral e ecologia da polinização das espermatófitas e suas diferentes estratégias reprodutivas, bem como as consequências destas na estrutura genética populacional, fluxo gênico e evolução da recombinação e do sexo nos vegetais.\n",
      "\n",
      "\n",
      "\n",
      "M[ij]= 84  M[ii]= 83 M[jj]= 97 0.876412867967\n",
      "Cartografia e Geoprocessamento\n",
      "Conceitos básicos de cartografia, Geoprocessamento, SIG, topografia e sensoriamento remoto, GPS; Escala, representação e projeções cartográficas (Geóide, Datum, elipsóide, UTM); Modelo de dados espaciais; Tipos de dados: Raster e vetor; Fontes de dados; Coleta de dados; Entrada e conversão de dados; Tratamento e análise de dados (Operações entre planos de informação, Análise de redes, Geocodificação por endereço); Modelo Numérico de Terreno; Geração e edição de mapas temáticos.\n",
      "\n",
      "\n",
      "Cartografia e Geoprocessamento para o Planejamento Territorial\n",
      "Conceitos básicos e fundamentos de cartografia, Geoprocessamento, Sistemas deInformação Geográfica (SIG), topografia e sensoriamento remoto, Sistema de Posicionamento Global (GPS); Escala, representação e projeções cartográficas (Geóide, Datum, elipsóide, UTM); Modelo de dados espaciais; Tipos de dados: Raster e vetor; Fontes de dados ; Coleta de dados; Entrada e conversão de dados; Tratamento e análise de dados (Operações entre planos de informação, Análise de redes, Geocodificação por endereço); Modelo Numérico de Terreno; Geração e edição de mapas temáticos. Cadastro técnico multifinalitário e informação territorial.\n",
      "\n",
      "\n",
      "\n",
      "M[ij]= 64  M[ii]= 233 M[jj]= 46 0.382160850905\n",
      "Ciências dos Materiais Biocompatíveis\n",
      "Estrutura dos Materiais: tipos de ligações e interações; Arranjo cristalino: planos; direções; retículos cristalinos e estruturas amorfas; Mecanismos de Difusão; Defeitos em materiais; Diagramas de equilíbrio de materiais polifásicos; Estudo do comportamento mecânico das diferentes classes de biomateriais. Conceitos e definições: Biomateriais, biocompatibilidade, biodesempenho, dispositivos biomédicos, implante, prótese, órtese e outros. Interdisciplinaridade no desenvolvimento, avaliação e aplicação de biomateriais. Classificação de biomateriais: Biomateriais sintéticos, biomateriais naturais, biomateriais bioinertes, bioativos, absorvíveis, bioreabsorvíveis. Biomateriais metálicos, poliméricos, cerâmicos, compósitos. Biomateriais Híbridos e Engenharia de tecidos. Noções de interações entre biomateriais e sistemas biológicos (tecidos moles, tecidos duros, sangue). Biomateriais aplicados às diferentes áreas da medicina e odontologia. Perspectivas e desafios tecnológicos em biomateriais.\n",
      "\n",
      "\n",
      "Processamento e Análise de Falhas em Biomateriais\n",
      "Matérias-primas, grau médico, cuidados e procedimentos exigidos pela legislação para preparo e manuseio de biomateriais; boas práticas de fabricação; esterilização de biomateriais, embalagens para biomateriais, certificação de biomateriais; mecanismos de falhas em biomateriais metálicos, cerâmicos e poliméricos.\n",
      "\n",
      "\n",
      "\n",
      "M[ij]= 141  M[ii]= 253 M[jj]= 175 0.449034443817\n",
      "Comunicação Digital\n",
      "Sistemas de Transmissão Binários em Banda Base: Introdução, Principais Técnicas de Modulação Digital em Banda Base para Sistemas Binários, Detecção de Sinais Binários em Ruído do Tipo AWGN; Sistemas de Transmissão Binários em Banda Passante: Introdução, Principais Técnicas de Modulação Digital em Banda Passante para Sistemas Binários, Representação Geométrica de Sinais, Detecção de Sinais em Ruído do tipo AWGN, Filtro Casado, Probabilidade de Erro de Símbolo, Probabilidade de Erro de Bit. Sistemas de Transmissão M¿ários em Banda Passante: Introdução, Sistemas de Modulação M¿ários, Principais Técnicas de Modulação Digital para Sistemas M¿ários, Filtragem Ótima, Codificação de Gray, Comparação de Desempenho para Sistemas M¿ários, Limitantes de Desempenho.\n",
      "\n",
      "\n",
      "Princípios de Comunicação\n",
      "Revisão de Análise e Representação de Sinais; Sistemas de Modulação Analógica; Sistemas de Modulação AM; Sistemas de Modulação FM; Sistemas de Modulação PM; Desempenho dos Sistemas de Modulação Analógica; Introdução aos Sistemas de Comunicação Digital; Transmissão em Banda Base; Modulação por Amplitude de Pulso; Modulação por Codificação de Pulso; Desempenho de Sistemas com Modulação por Codificação de Pulso; Formatação de Sinais Digitais; Detecção de Sinais Binários em Ruído do Tipo AWGN; Transmissão em Canais Limitados em Banda (Primeiro e Segundo Critério de Nyquist).\n",
      "\n",
      "\n",
      "\n",
      "M[ij]= 186  M[ii]= 170 M[jj]= 577 0.352696503211\n",
      "Cultura Política\n",
      "os diversos conceitos de cultura e cultura política. Ideologia e Cultura. Cultura política como um conceito multi e interdisciplinar. Cultura Política e Comportamento político. Significados de cidadania na visão de grupos sociais distintos e processos de democratização. Ação política, cotidiano e cultura política. Cultura brasileira e cultura política brasileira no plural. cultura política: democracia e continuidades autoritárias. Família, parentesco e grupos de poder. O público e o privado no imaginário social brasileiro. Estudos de casos.\n",
      "\n",
      "\n",
      "Identidade e Cultura\n",
      "Os diversos conceitos de cultura através dos tempos; teorias sociais sobre cultura; cultura como conceito antropológico; a questão da diversidade cultural e as teorias que as explicam; o evolucionismo, o funcionalismo, o culturalismo, a difusão cultural, o estruturalismo e a teoria interpretativa da cultura; cultura e personalidade; socialização e cultura; abordagem interacionista de cultura; o significado de aculturação; cultura popular; cultura de massa; cultura de classe; cultura e a noção bourdieuana de “habitus”; usos sociais da noção de cultura; cultura política, cultura empresarial e organizacional; relativismo cultural e etnocentrismo; conceitos de identidade; relação de identidade e cultura; identidade cultural e identidade social; concepção relacional e situacional de identidade cultural; cultura, identidade e etnia; Estado e identidade; estratégias de identidade; fronteiras da identidade; cultura e identidade na globalização; Políticas Públicas e identidade cultural; etnografia como forma de compreender a cultura de grupos sociais; estudo de casos de implementação de Políticas Públicas em grupos sociais distintos: sucessos e insucessos.\n",
      "\n",
      "\n",
      "\n",
      "M[ij]= 82  M[ii]= 100 M[jj]= 117 0.574700854701\n",
      "Dinâmica I\n",
      "Sistema de forças, estática e cinemática de ponto material e corpo rígido. Dinâmica de ponto material. Exemplos de aplicação. Dinâmica de ponto material e corpo rígido: quantidade de movimento, teorema do movimento do baricentro, momentos de massa de segunda ordem, energia cinética, trabalho e potência das forças internas e externas, teorema da energia cinética, momento das forças internas e externas, momento angular, teorema do momento angular, ângulos de Euler e equações de Euler.\n",
      "\n",
      "\n",
      "Dinâmica II\n",
      "Dinâmica de ponto material e corpo rígido: quantidade de movimento, teorema do movimento do baricentro, momentos de massa de segunda ordem, energia cinética, trabalho e potencia das forças internas e externas, teorema da energia cinética, momento das forças internas e externas, momento angular, teorema do momento angular, ângulos de Euler e equações de Euler. Mecânica Lagrangeana: graus de liberdade, coordenadas generalizadas, vínculos holônomos e não-holônomos, deslocamento virtual, trabalho virtual, forças vinculares, princípio do trabalho virtual, princípio de D`Alembert, forças generalizadas, equações de Lagrange.\n",
      "\n",
      "\n",
      "\n",
      "M[ij]= 71  M[ii]= 364 M[jj]= 39 0.355100028177\n",
      "Diversidade Cultural, Conhecimento Local e Políticas Públicas\n",
      "conceitos de cultura; o significado do ethos cultural das comunidades locais; diversidade cultural, conhecimento local e visão de mundo dos diferentes grupos sociais; relações interculturais entre o agente de políticas públicas e a população local; relativismo cultural e direitos humanos: uma tensão a ser compreendida para a elaboração de políticas públicas; a noção de choque cultural; identidade social e cultural e valores culturais; a proteção da diversidade cultural como política pública; linguagens culturais e o implemento de políticas públicas; patrimônio imaterial e aplicação de políticas públicas; políticas públicas para populações indígenas; políticas públicas voltadas para saúde e relações de gênero; políticas públicas e ethos e pluralismo religioso; políticas públicas e velhice; políticas públicas e infância; imigração, migração e políticas públicas; desenraizamento, estratégias de pertencimento e afirmação da identidade; códigos sociais, violência como linguagem e o papel das políticas públicas; multiculturalismo e educação.\n",
      "\n",
      "\n",
      "Introdução às Políticas Públicas\n",
      "O que é política pública; Formulação, implementação e avaliação de políticas públicas; Teorias das políticas públicas; Incrementalismo x Reformas; Atores e interesses políticos, sociais e econômicos envolvidos nas políticas públicas; O papel da burocracia e da administração.\n",
      "\n",
      "\n",
      "\n",
      "M[ij]= 201  M[ii]= 364 M[jj]= 362 0.306607066966\n",
      "Diversidade Cultural, Conhecimento Local e Políticas Públicas\n",
      "conceitos de cultura; o significado do ethos cultural das comunidades locais; diversidade cultural, conhecimento local e visão de mundo dos diferentes grupos sociais; relações interculturais entre o agente de políticas públicas e a população local; relativismo cultural e direitos humanos: uma tensão a ser compreendida para a elaboração de políticas públicas; a noção de choque cultural; identidade social e cultural e valores culturais; a proteção da diversidade cultural como política pública; linguagens culturais e o implemento de políticas públicas; patrimônio imaterial e aplicação de políticas públicas; políticas públicas para populações indígenas; políticas públicas voltadas para saúde e relações de gênero; políticas públicas e ethos e pluralismo religioso; políticas públicas e velhice; políticas públicas e infância; imigração, migração e políticas públicas; desenraizamento, estratégias de pertencimento e afirmação da identidade; códigos sociais, violência como linguagem e o papel das políticas públicas; multiculturalismo e educação.\n",
      "\n",
      "\n",
      "Políticas Públicas de Gênero, Etnia e Geração\n",
      "Concepções de diferença, diversidade, desigualdade, alteridade e identidade, etnocentrismo, estereótipo, preconceito, racismo, sexismo; discriminações; construções do conceito de gênero e a apropriação cultural da diferença sexual; sexualidade, sociedade e política; corpo, sexualidade, etnia e geração; construções de identidades étnicas, de gênero, sexuais e de geração; diferenças de gênero, etnia e geração na organização social e econômica da vida pública e da vida privada; diferenças e desigualdades no trabalho, na educação e na participação política: especificidades das desigualdades de gênero, étnicas e geracionais no contexto das desigualdades em escala local, nacional e global; movimentos feministas, LGBTs, étnicos e geracionais (juventude e “terceira idade”) e as lutas sociais por políticas de reparação e promoção de igualdade; problematização das concepções universais de sujeito, direitos, democracia, igualdade, cidadania e políticas públicas; políticas públicas de combate às discriminações e violências de gênero, étnica e geracional; políticas públicas sobre direitos sexuais e reprodutivos e de reconhecimento da diversidade sexual; políticas públicas afirmativas e de cotas e de reconhecimento da diversidade étnica; políticas públicas e o reconhecimento da diversidade geracional e das relações intergeracionais; cruzamento ou não das categorias gênero, etnia, geração e classe no desenvolvimento de políticas públicas; políticas públicas de gênero, etnia e geração na região do ABC paulista.\n",
      "\n",
      "\n",
      "\n",
      "M[ij]= 73  M[ii]= 119 M[jj]= 145 0.308838017966\n",
      "Eletromagnetismo II\n",
      "Corrente elétrica: densidade de corrente, equação de continuidade. Lei de Ohm: condutividade; correntes estacionárias em meios contínuos: equação de Laplace. Passagem para o equilíbrio eletrostático: tempo de relaxação. Campo magnético: forças sobre elementos de corrente, lei de Biot e Savart, lei circuital de Ampére. Potencial vetor; potencial escalar; fluxo magnético. Condições de contorno sobre vetores de campo. Magnetização: densidade de dipolo magnético. Energia magnética, forças e torques. campo magnético na matéria: Suscetibilidade magnética. Permeabilidade magnética. Histerese. diamagnetismo, paramagnetismo, ferromagnetismo. Indução eletromagnética: Lei de Faraday-Henry, auto-indutância, indutância mútua, fórmula de Neumann.\n",
      "\n",
      "\n",
      "Fenômenos Eletromagnéticos\n",
      "Carga elétrica; lei de Coulomb; campo elétrico; lei de Gauss para o campo elétrico; potencial elétrico; capacitância; corrente elétrica e resistência elétrica; circuitos elétricos; campo magnético; campo magnético devido à corrente elétrica (lei de Biot- Savart); lei de Ampere, lei de Gauss para o campo magnético; lei de Faraday (indução e indutância); corrente de deslocamento, Lei de Ampere-Maxwell e equações de Maxwell na forma integral; Introdução às Ondas Eletromagnéticas.\n",
      "\n",
      "\n",
      "\n",
      "M[ij]= 137  M[ii]= 143 M[jj]= 373 0.351881362605\n",
      "Energia de Sistemas Solares Térmicos\n",
      "Radiação solar. Tópicos de transferência de calor. Características da radiação de materiais opacos. Transmissão da radiação solar através de vidros. Coletores solares planos para aquecimento de água. Coletores concentradores. Armazenamento de energia térmica. Dimensionamento de sistemas térmicos solares. Economia dos processos térmicos solares. Aquecimento de edificações. Refrigeração solar. Processos industriais com aquecimento solar. Sistemas de potencia com aquecimento solar. Simulações em processos térmicos solares. Métodos para desenho de sistemas ativos solares. Heliostatos. Engenharia heliotérmica. Centrais heliotérmicas de geração de energia elétrica. Problemas e exercícios.\n",
      "\n",
      "\n",
      "Engenharia Solar Térmica\n",
      "O Sol e suas caraterísticas. Espectro da radiação solar extraterrestre. Atenuação atmosférica da radiação solar. Instrumentos de medição da radiação solar. Componentes da radiação solar incidente em uma superfície arbitrariamente inclinada e orientada. Seguimento solar. Potencial solar e sua avaliação. Radiação do corpo negro. Emissividade, transmissividade, refletividade e absortividade de superfícies reais opacas e transparentes. Superfícies cinzas. Superfícies seletivas. Radiação ambiental. Coletores solares planos. Coletores solares de concentração. Coletores solares de tubos evacuados. Armazenamento da energia solar térmica. Determinação da carga térmica em processos de aquecimento e refrigeração com fonte solar. Balanço energético de circuitos termosolares simples constituídos de coletor solar, dutos, trocador de calor e reservatório. Balanço energético de circuitos termosolares compostos contendo associações de coletores solares. Sistemas de controle por temperatura em sistemas termosolares. Sistemas termosolares ativos e passivos para aquecimento de água e de ambientes. Sistemas de geração de energia elétrica com fonte termosolar. Projetos básico e executivo de sistemas termosolares. Instalação, comissionamento, operação e manutenção de sistemas termosolares. Procedimentos de qualificação e certificação de equipamentos termosolares. Avaliação econômica de sistemas termosolares.\n",
      "\n",
      "\n",
      "\n",
      "M[ij]= 50  M[ii]= 80 M[jj]= 80 0.390625\n",
      "Energia e Abastecimento\n",
      "Fontes de energia. Matriz energética do Brasil. Impacto ambiental das diversas fontes e formas de conversão. Formas de aproveitamento das energias naturais. Matriz energética do Brasil. Impacto ambiental das diversas fontes e formas de conversão. Sistemas de geração, transmissão, distribuição de energia. Estrutura de organização do setor energético. Desenvolvimento econômico e social e demanda de energia. Políticas e programas de abastecimento de Energia.\n",
      "\n",
      "\n",
      "Energia e Meio Ambiente\n",
      "Fontes de energia. Aproveitamento da água como fonte de energia. Tipos de combustíveis: petróleo, gás natural, carvão, lenha e nuclear. Combustíveis derivados da biomassa. Energia solar. Energia eólica. Formas de aproveitamento das energias naturais. Conceito de energia útil. Eletricidade e transporte. Eficiência e perdas. Usinas hidroelétricas, termelétricas convencionais e nucleares. Co-geração de eletricidade e calor. Matriz energética do Brasil. Impacto ambiental das diversas fontes e formas de conversão.\n",
      "\n",
      "\n",
      "\n",
      "M[ij]= 124  M[ii]= 148 M[jj]= 322 0.322645626993\n",
      "Energia, Meio Ambiente e Sociedade\n",
      "Energia: discussão de conceitos; Evolução histórica da oferta e do consumo de energia; Recursos energéticos; Uso final da energia; Análise da matriz energética brasileira e mundial; Energia e conflitos sociais. Impactos sociais dos empreendimentos energéticos; Energia e desenvolvimento: PIB, crescimento econômico, distribuição de renda, qualidade de vida, energia e emprego, curva de Kuznets, IDH, intensidade energética, modelos de desenvolvimento; Energia e meio ambiente: indicadores, contribuição das fontes, impactos ambientais locais e globais, fontes estacionárias e móveis; Eficiência energética; Tecnologias de conversão de energia; Políticas ambientais; Regulação ambiental; Políticas energéticas; Planejamento integrado de recursos.\n",
      "\n",
      "\n",
      "Uso Final de Energia e Eficiência Energética\n",
      "Conservação de energia - conceitos fundamentais; auditoria energética. Formas de transformação de energia. Determinação da eficiência em sistemas energéticos. Tipos de lâmpadas. Bombas. Ventiladores. Refrigeração e ar condicionado. Caldeiras e fornos. Motores de indução trifásicos. Sistemas de aquecimento. Sistemas de utilização das energias fósseis. A energia nos sistemas de transporte. Motor a combustão interna (MCI). Motor Diesel. Uso da energia no setor industrial. Utilização do hidrogênio. O problema do aumento da demanda e os empreendimentos energéticos. Balanço energético segundo o uso de energia; segmentação do consumo de energia e detalhamento dos diferentes usos finais encontrados no Brasil e nos principais países do planeta; conceito de eficiência energética; indicadores de eficiência energética; uso eficiente de energia elétrica em iluminação, força motriz e no condicionamento ambiental; programas de conservação de energia elétrica: políticas e estratégias de combate ao desperdício de energia; sistemas de gerenciamento do uso da energia; aspectos de racionalização sob o enfoque tarifário; gerenciamento pelo lado da demanda e diagnóstico energético; gerência energética e análise econômica da conservação de energia. Qualidade dos equipamentos de usos finais. Avanços tecnológicos. Tecnologias eficientes. Uso de modelos matemáticos e simulações para avaliar a substituição de tecnologias.\n",
      "\n",
      "\n",
      "\n",
      "M[ij]= 65  M[ii]= 145 M[jj]= 96 0.303520114943\n",
      "Fenômenos Eletromagnéticos\n",
      "Carga elétrica; lei de Coulomb; campo elétrico; lei de Gauss para o campo elétrico; potencial elétrico; capacitância; corrente elétrica e resistência elétrica; circuitos elétricos; campo magnético; campo magnético devido à corrente elétrica (lei de Biot- Savart); lei de Ampere, lei de Gauss para o campo magnético; lei de Faraday (indução e indutância); corrente de deslocamento, Lei de Ampere-Maxwell e equações de Maxwell na forma integral; Introdução às Ondas Eletromagnéticas.\n",
      "\n",
      "\n",
      "Laboratório de Física II\n",
      "Tratamento de dados experimentais. Análise de erros. Experimentos e conceitos envolvendo a metodologia da Física Experimental aplicados: Carga elétrica, força elétrica, demonstração experimental da Lei de coulomb, capacitor de placas paralelas, campo elétrico, constante dielétrica de materiais, campo magnético, determinação do campo magnético da terra, dipolos magnéticos, indução magnética, Lei de Biot-Savart, Lei de Ampere, Campo magnético de correntes, efeito Hall clássico, Efeito Hall em metais, Resistencia Hall, Ferromagnetismo, histerese ferromagnética, domínios magnéticos.\n",
      "\n",
      "\n",
      "\n",
      "M[ij]= 52  M[ii]= 145 M[jj]= 33 0.565099268548\n",
      "Fenômenos Eletromagnéticos\n",
      "Carga elétrica; lei de Coulomb; campo elétrico; lei de Gauss para o campo elétrico; potencial elétrico; capacitância; corrente elétrica e resistência elétrica; circuitos elétricos; campo magnético; campo magnético devido à corrente elétrica (lei de Biot- Savart); lei de Ampere, lei de Gauss para o campo magnético; lei de Faraday (indução e indutância); corrente de deslocamento, Lei de Ampere-Maxwell e equações de Maxwell na forma integral; Introdução às Ondas Eletromagnéticas.\n",
      "\n",
      "\n",
      "Teoria Eletromagnética\n",
      "Campo e potencial eletrostáticos; lei de Gauss; capacitância; dielétricos; corrente elétrica; campo magnético; lei de Ampère; lei da indução; circuitos; equações de Maxwell; ondas eletromagnéticas; ondas em regiões de contorno\n",
      "\n",
      "\n",
      "\n",
      "M[ij]= 95  M[ii]= 150 M[jj]= 157 0.383227176221\n",
      "Física de Reatores Nucleares I\n",
      "Reações nucleares, seções de choque microscópicas e macroscópicas, seção de choque de espalhamento diferencial, reação de fissão em cadeia e multiplicação de nêutrons; Isótopos físseis e férteis,  meios multiplicativos de nêutrons térmicos e rápidos (reator nuclear) e razão de conversão (breeder); fator efetivo de multiplicação, fórmulas dos 4 fatores e 6 fatores e cinética simples dos reatores; Lei de Fick e equação de difusão de nêutrons  em estado estacionário para meio não-multiplicativo; Solução da equação de difusão de nêutrons em coordenadas cartesianas, cilíndrica e esférica; Equação de difusão em meio multiplicativo;  Condições de criticalidade e buckling transversal; Equação de cinética pontual,  nêutrons prontos e atrasados; Controle do reator, reatividade integral e diferencial de barras de controle; Efeitos de realimentação instantâneos e coeficientes de reatividade; Noções gerais para o projeto do núcleo do reator nuclear.\n",
      "\n",
      "\n",
      "Física de Reatores Nucleares II\n",
      "Equação de transporte de nêutrons e aproximação de difusão;  Moderação de nêutrons; Termalização de nêutrons; Equação de transporte de nêutrons com dependência energética; Equação de difusão para meio infinito e homogêneo; Equação de difusão em  multigrupos de energia; equação de difusão de nêutrons em 2 grupos de energia; Dinâmica de reatores a partir das equações de cinética espacial a pontual; Efeitos de realimentação de médio e longo prazo, transmutação nuclear, consumo de combustível, envenenamento de Xe e Sm ; Solução numérica da equação de difusão de nêutrons;  Projeto do núcleo do reator nuclear, geração de seção de choque, distribuição de densidade de potência, fator efetivo de multiplicação e tempo de vida do núcleo.\n",
      "\n",
      "\n",
      "\n",
      "M[ij]= 102  M[ii]= 69 M[jj]= 191 0.789437741862\n",
      "Habitação e Assentamentos Humanos\n",
      "Dimensão do problema habitacional no Brasil; déficit e inadequação habitacional; Precariedade habitacional (favelas, loteamentos, cortiços, outros tipos de assentamentos); Políticas e Programas de urbanização e integração de assentamentos precários: alcances e limitações; Habitação e a questão ambiental: agenda, conflitos e possibilidades; Assentamentos precários: diagnóstico integrado e estratégias de intervenção. Assentamentos precários localizados em áreas de interesse ambiental. Estudos de caso.\n",
      "\n",
      "\n",
      "Habitação e Assentamentos Precários\n",
      "A dimensão e características da precariedade habitacional no Brasil. Evolução das políticas e programas voltados a urbanização e recuperação dos assentamentos precários. Introduzir conceitos e metodologias aplicados ao desenvolvimento de projetos de urbanização e integração de assentamentos precários. Diagnósticos e propostas de recuperação ambiental e urbanística de assentamentos precários. Dimensão do problema habitacional no Brasil; Déficit e inadequação habitacional; Precariedade habitacional (favelas, loteamentos, cortiços, outros tipos de assentamentos); Políticas e programas Urbanização e integração de assentamentos precários: alcances e limitações. Habitação e a questão ambiental: Agenda, conflitos e possibilidades. Assentamentos precários: diagnóstico integrado e estratégias de intervenção. Assentamentos precários localizados em áreas de interesse ambiental. Está prevista o desenvolvimento de estudo de caso nesta disciplina.\n",
      "\n",
      "\n",
      "\n",
      "M[ij]= 64  M[ii]= 104 M[jj]= 128 0.307692307692\n",
      "História da Matemática\n",
      "Origens da matemática; a matemática no Egito e na Babilônia; a matemática Grega; a matemática Hindu-Chinesa; os Árabes na matemática; A matemática na idade média; a álgebra de Viete; Fermat e Descartes; origens e desenvolvimento do Cálculo; Newton e Leibniz; a era Bernoulli; Euler; Cauchy e Gauss; Abel e Galois; Geometrias não-Euclidianas; a passagem do Cálculo para a Análise; fundamentos: Boole, Cantor e Dedekind; a matemática do século 20 e a matemática contemporânea.\n",
      "\n",
      "\n",
      "Tendências em Educação Matemática\n",
      "Etnomatemática. O campo de investigação que compreende História, Matemática e Educação: História da Matemática, História da Educação Matemática e História na Educação Matemática. Filosofia da Educação Matemática. Informática e Educação Matemática. Educação Matemática de Jovens e Adultos. Modelagem Matemática na Formação do Educador.\n",
      "\n",
      "\n",
      "\n",
      "M[ij]= 56  M[ii]= 88 M[jj]= 110 0.323966942149\n",
      "Indicadores de Políticas Públicas\n",
      "O que são indicadores e como são criados. Características dos indicadores. Indicadores econômicos. Indicadores sociais. Indicadores de desenvolvimento humano. Indicadores de sustentabilidade. A aplicação dos indicadores nas pesquisas sociais. Acesso, manuseio e análise de dados e indicadores disponíveis.\n",
      "\n",
      "\n",
      "Sustentabilidade e Indicadores\n",
      "Indicadores como instrumentos de gestão para a sustentabilidade. A utilização de indicadores para políticas, planos, projetos e processos. A sustentabilidade como desafio, paradigma e conceito em políticas, planos, projetos e processos. A evolução dos indicadores aplicados à sustentabilidade. Indicadores de sustentabilidade: parâmetros, aplicabilidade, deficiências e possibilidades de utilização. O papel da informação e da mídia para a utilização de indicadores na gestão da sustentabilidade. Desenvolvimento de indicadores. Estudos de caso.\n",
      "\n",
      "\n",
      "\n",
      "M[ij]= 48  M[ii]= 92 M[jj]= 74 0.338425381904\n",
      "Introdução aos Processos Pontuais\n",
      "Processos pontuais finitos. Processos pontuais em R^d: definição. Processos Marcados, Caracterização de processos: eventos vazios (void events), funcionais geradores. Processos de Poisson: definição, construção de processo estacionário, construção por projeção, Teorema de SlivnyakMecke, superposição e emagrecimento, deslocamento aleatório. Processos de Cox: definição, propriedades e exemplos. Processos de nascimento e morte com interação.\n",
      "\n",
      "\n",
      "Processos Estocásticos\n",
      "Introdução e Fundamentos. Construção de Cadeias de Markov. Medidas Invariantes. Perda de Memória e convergência ao equilíbrio. Estudo de alguns Processos Especiais: Poisson, Nascimento e Morte, Ramificação, Renovação, Processos Markovianos de Salto, Processos de Difusão. Processos estocásticos com interação, aplicações de martingais, teoria construtiva de processos Markovianos, funções harmônicas, comportamento de processos fora de equilíbrio.\n",
      "\n",
      "\n",
      "\n",
      "M[ij]= 91  M[ii]= 93 M[jj]= 117 0.761051373955\n",
      "Materiais Poliméricos\n",
      "Introdução Geral (definições, história, importância dos materiais poliméricos). Tipos de ligações químicas do carbono. Estrutura dos materiais poliméricos. Classificação. Polimerização. Massa molar e distribuição de massa molar. Configurações da cadeia polimérica (taticidade, isomeria cis/trans, seqüenciamento cabeça/cauda). Polímeros em solução. Termodinâmica de soluções de polímeros. Conformação de cadeias em solução. Parâmetros de solubilidade e estado è.  Transições térmicas. O estado amorfo. Cristalinidade de polímeros. Polímeros no estado fundido. Técnicas de processamento de materiais poliméricos. Elasticidade da borracha. Biopolímeros.\n",
      "\n",
      "\n",
      "Polímeros: Síntese, Caracterização e Processos\n",
      "Introdução Geral (história importância dos materiais poliméricos). Estrutura dos materiais poliméricos. Classificação. Polimerização, tipos de reação de polimerização (condensação, adição, iônica, abertura de anel), métodos de polimerização (em massa, em suspensão, em solução, por emulsão), copolimerização. Massa molar e distribuição de massa molar. Configurações da cadeia polimérica (taticidade, isomeria cis/trans, sequenciamento cabeça/cauda). Polímeros em solução. Termodinâmica de soluções de polímeros. Conformação de cadeias em solução. Parâmetros de solubilidade e estado θ. Transições térmicas. O estado amorfo. Cristalinidade de polímeros. Polímeros no estado fundido. Técnicas de processamento de materiais poliméricos. Biopolímeros. Aulas práticas.\n",
      "\n",
      "\n",
      "\n",
      "M[ij]= 44  M[ii]= 70 M[jj]= 78 0.354578754579\n",
      "Métodos de Tomada de Decisão Aplicados ao Planejamento Urbano-Ambiental\n",
      "A disciplina tem por objetivo apresentar e discutir métodos e técnicas de avaliação de desempenho de alternativas de projetos e políticas públicas, bem como modelagem e estudo de cenários para planejamento estratégico e tomada de decisão. O programa da disciplina aborda o uso de técnicas multicriteriais de tomada de decisão e programação matemática para avaliação de projetos em sistemas complexos no âmbito da engenharia ambiental e urbana, envolvendo múltiplos agentes deliberantes, considerando variáveis técnicas, econômicas, sociais e ambientais em diferentes horizontes de projeto\n",
      "\n",
      "\n",
      "Métodos Quantitativos para Planejamento Estratégico\n",
      "A disciplina tem por objetivo apresentar e discutir métodos e técnicas para a utilização de sistemas de informação e técnicas de análise de dados para modelagem e monitoramento de desempenho de alternativas de projetos e políticas públicas, bem como modelagem e estudo de cenários para planejamento estratégico e tomada de decisão. O programa da disciplina aborda o manuseio e cruzamento de dados georeferenciados, o uso de técnicas estatísticas de análise multivariada de dados e séries temporais, modelagem e simulação de sistemas dinâmicos ambientais e populacionais e conceitos de estatística espacial.\n",
      "\n",
      "\n",
      "\n",
      "M[ij]= 41  M[ii]= 62 M[jj]= 47 0.5768702814\n",
      "Métodos e Técnicas Aplicadas às Políticas Públicas Ambientais\n",
      "Fundamentos, métodos e técnicas de planejamento e gestão ambiental. Análise de base de dados e cartografia. Escalas, recortes e instrumentos de planejamento e gestão ambiental. A articulação das políticas públicas na organização e implementação de ações de planejamento e gestão ambiental. Desenvolvimento e avaliação de planos, programas e projetos ambientais. Obtenção e gestão de recursos de fundos ambientais.\n",
      "\n",
      "\n",
      "Métodos e Técnicas Aplicadas às Políticas Públicas Urbanas\n",
      "Fundamentos, métodos e técnicas de planejamento e gestão urbana. Análise de base de dados e cartografia. Escalas, recortes e instrumentos de planejamento e gestão urbana. A articulação das políticas públicas na organização e implementação de ações de planejamento e gestão urbana. Desenvolvimento e avaliação de planos e programas.\n",
      "\n",
      "\n",
      "\n",
      "M[ij]= 45  M[ii]= 62 M[jj]= 92 0.355014025245\n",
      "Métodos e Técnicas Aplicadas às Políticas Públicas Ambientais\n",
      "Fundamentos, métodos e técnicas de planejamento e gestão ambiental. Análise de base de dados e cartografia. Escalas, recortes e instrumentos de planejamento e gestão ambiental. A articulação das políticas públicas na organização e implementação de ações de planejamento e gestão ambiental. Desenvolvimento e avaliação de planos, programas e projetos ambientais. Obtenção e gestão de recursos de fundos ambientais.\n",
      "\n",
      "\n",
      "Modelos e Ferramentas de Gestão Ambiental\n",
      "Gestão ambiental global e regional; políticas públicas ambientais; legislação  ambiental; estratégias de gestão ambiental; modelos de gestão ambiental; tipos de organizações e seus diferentes impactos ambientais. sistemas de gestão ambiental; norma ISO 14000; auditorias ambientais; avaliação do ciclo de vida do produto; relatórios ambientais; estudos de impacto ambiental.\n",
      "\n",
      "\n",
      "\n",
      "M[ij]= 56  M[ii]= 117 M[jj]= 78 0.343633574403\n",
      "Métodos e Técnicas de Análise de Informação para o Planejamento\n",
      "Métodos e técnicas para a utilização de sistemas de informação, técnicas de análise de dados e de avaliação de desempenho de alternativas de projetos e políticas públicas, modelos e estudo de cenários para planejamento estratégico e de tomada de decisão. Tipo de informação e dados disponíveis para planejamento territorial; combinação de análises quantitativas e qualitativas; principais bancos de dados e indicadores; manuseio e cruzamento de dados georeferenciados; regressão linear: princípios, pressupostos e análise de resultados; o uso regressão linear múltipla na análise de dados: princípios, técnicas e análise de resultados; ferramentas de tomada de decisão. Apresentação de informações quantitativas.\n",
      "\n",
      "\n",
      "Métodos Quantitativos para Planejamento Estratégico\n",
      "A disciplina tem por objetivo apresentar e discutir métodos e técnicas para a utilização de sistemas de informação e técnicas de análise de dados para modelagem e monitoramento de desempenho de alternativas de projetos e políticas públicas, bem como modelagem e estudo de cenários para planejamento estratégico e tomada de decisão. O programa da disciplina aborda o manuseio e cruzamento de dados georeferenciados, o uso de técnicas estatísticas de análise multivariada de dados e séries temporais, modelagem e simulação de sistemas dinâmicos ambientais e populacionais e conceitos de estatística espacial.\n",
      "\n",
      "\n",
      "\n",
      "M[ij]= 105  M[ii]= 561 M[jj]= 50 0.393048128342\n",
      "Métodos Matemáticos Aplicados a Sistemas Biomédicos\n",
      "Revisão de Números Complexos; Sinais e Sistemas a Tempo Contínuo: Definições (Sinais, Sistemas, Linearidade, Invariância no Tempo, Estabilidade BIBO, Causalidade); Representação de Sinais Periódicos usando Séries de Fourier: Forma Trigonométrica, Forma Exponencial; Espectro de Amplitude,  Espectro de Fase e Relação de Parseval; Sistemas Lineares e Invariantes no Tempo (LIT): Relação Entrada-Saída, Resposta Impulsiva e a Integral de Convolução; Transformada de Laplace: Definição, Região de Convergência, Propriedades, Resolução de Equações Diferenciais Ordinárias, Funções de Transferência; Transformada de Laplace Inversa: Método de Frações Parciais; Resposta em Freqüência: Diagramas de Bode (Sistemas de 1a Ordem e 2a Ordem); Transformada de Fourier a Tempo Contínuo - Definição, Relações com a Transformada de Laplace e Transformada Inversa de Fourier; Transformada de Fourier a Tempo Contínuo ¿ Propriedades; Amostragem de Sinais Limitados em Faixa: Amostragem Ideal, Teorema de Nyquist e Aliasing; Sinais e Sistemas a Tempo Discreto: Definições (Sinais, Sistemas, Linearidade, Invariância no Tempo, Estabilidade BIBO, Causalidade); Sistemas Lineares e Invariantes no Tempo (LIT): Relação Entrada-Saída, Resposta Impulsiva e a Somatório de Convolução; Transformada Z: Definição, Região de Convergência, Funções Comuns  (Impulso Unitário, Degrau Unitário,...), Propriedades, Resolução de Equações à Diferenças Finitas, Funções de Transferência; Transformada Z Inversa: Método de Frações Parciais; Resposta em Freqüência a partir da Transformada Z: Introdução à Transformada Discreta de Fourier; Resposta em Freqüência: Atraso de Grupo, Sistemas de Fase Linear e Sistemas de Fase Mínima.\n",
      "\n",
      "\n",
      "Processamento Digital de Sinais\n",
      "Sinais de Tempo Discreto e Seqüências; Sistemas Lineares Invariantes no Tempo; Convolução; Equações a Diferenças; Amostragem de Sinais em Tempo Contínuo; Análise no Domínio da Freqüência: Transformada Z; Análise de Fourier de Tempo Discreto; Transformada Rápida de Fourier (FFT).\n",
      "\n",
      "\n",
      "\n",
      "M[ij]= 93  M[ii]= 561 M[jj]= 42 0.367074102368\n",
      "Métodos Matemáticos Aplicados a Sistemas Biomédicos\n",
      "Revisão de Números Complexos; Sinais e Sistemas a Tempo Contínuo: Definições (Sinais, Sistemas, Linearidade, Invariância no Tempo, Estabilidade BIBO, Causalidade); Representação de Sinais Periódicos usando Séries de Fourier: Forma Trigonométrica, Forma Exponencial; Espectro de Amplitude,  Espectro de Fase e Relação de Parseval; Sistemas Lineares e Invariantes no Tempo (LIT): Relação Entrada-Saída, Resposta Impulsiva e a Integral de Convolução; Transformada de Laplace: Definição, Região de Convergência, Propriedades, Resolução de Equações Diferenciais Ordinárias, Funções de Transferência; Transformada de Laplace Inversa: Método de Frações Parciais; Resposta em Freqüência: Diagramas de Bode (Sistemas de 1a Ordem e 2a Ordem); Transformada de Fourier a Tempo Contínuo - Definição, Relações com a Transformada de Laplace e Transformada Inversa de Fourier; Transformada de Fourier a Tempo Contínuo ¿ Propriedades; Amostragem de Sinais Limitados em Faixa: Amostragem Ideal, Teorema de Nyquist e Aliasing; Sinais e Sistemas a Tempo Discreto: Definições (Sinais, Sistemas, Linearidade, Invariância no Tempo, Estabilidade BIBO, Causalidade); Sistemas Lineares e Invariantes no Tempo (LIT): Relação Entrada-Saída, Resposta Impulsiva e a Somatório de Convolução; Transformada Z: Definição, Região de Convergência, Funções Comuns  (Impulso Unitário, Degrau Unitário,...), Propriedades, Resolução de Equações à Diferenças Finitas, Funções de Transferência; Transformada Z Inversa: Método de Frações Parciais; Resposta em Freqüência a partir da Transformada Z: Introdução à Transformada Discreta de Fourier; Resposta em Freqüência: Atraso de Grupo, Sistemas de Fase Linear e Sistemas de Fase Mínima.\n",
      "\n",
      "\n",
      "Transformadas em Sinais e Sistemas Lineares\n",
      "Introdução a Sinais e Sistemas; Sinais Analógicos; Sistemas Analógicos; Sistemas Lineares e Invariantes no Tempo (LIT); Convolução; Representação no Domínio da Freqüência; Serie de Fourier; Transformada de Fourier; Transformada de Laplace; Filtros Analógicos.\n",
      "\n",
      "\n",
      "\n",
      "M[ij]= 87  M[ii]= 87 M[jj]= 87 1.0\n",
      "Política Urbana\n",
      "Políticas urbanas no Brasil e no mundo, processo de produção e apropriação do espaço urbano no contexto do sistema capitalista. Contextualização do processo de urbanização brasileira. Planejamento urbano como campo disciplinar. O planejamento urbano no Brasil. O Estado e a produção do espaço urbano no Brasil. Práticas recentes de planejamento urbano e no Brasil. Articulação das políticas urbana, habitacional, ambiental, saneamento e de mobilidade.\n",
      "\n",
      "\n",
      "Política Urbana\n",
      "Políticas urbanas no Brasil e no mundo, processo de produção e apropriação do espaço urbano no contexto do sistema capitalista. Contextualização do processo de urbanização brasileira. Planejamento urbano como campo disciplinar. O planejamento urbano no Brasil. O Estado e a produção do espaço urbano no Brasil. Práticas recentes de planejamento urbano e no Brasil. Articulação das políticas urbana, habitacional, ambiental, saneamento e de mobilidade.\n",
      "\n",
      "\n",
      "\n",
      "M[ij]= 52  M[ii]= 95 M[jj]= 78 0.364912280702\n",
      "Práticas de Ciências no Ensino Fundamental\n",
      "O papel da linguagem no ensino de Ciências. A seleção de conteúdos no ensino fundamental. Modalidades didáticas: aula expositiva, utilização de mídia impressa, filmes e outros recursos audiovisuais, literatura, jogos, debates, estudos do meio, quadrinhos, músicas, entre outros. A experimentação e o ensino de ciências. A Resolução de problemas no ensino de Ciências. Tendências e práticas de pesquisa em ensino de Ciências. Avaliação em ensino de ciências.\n",
      "\n",
      "\n",
      "Práticas de Ensino de Matemática no Ensino Fundamental\n",
      "O papel da linguagem na educação matemática. A seleção de conteúdos no ensino fundamental. Modalidades didáticas: aula expositiva, utilização de mídia impressa, filmes e outros recursos audiovisuais, literatura, jogos, debates, estudos do meio, quadrinhos, músicas, entre outros. A experimentação e a matemática: os laboratórios de ensino. A resolução de problemas no ensino da matemática. Tendências e práticas de pesquisa em educação matemática. Avaliação em educação matemática.\n",
      "\n",
      "\n",
      "\n",
      "M[ij]= 64  M[ii]= 96 M[jj]= 95 0.449122807018\n",
      "Práticas de Ensino de Biologia I\n",
      "Enfoques teóricos e metodológicos no contexto escolar de Biologia no ensino médio, discutindo a história da evolução dessa disciplina no ensino. Diretrizes e Parâmetros curriculares nacionais para o ensino de Biologia (PCNEM e PCN+) e sua relação com o projeto educativo da escola. Contextualização no ensino de Biologia. Objetivos do ensino de biologia na educação básica. Conteúdos e temas estruturadores. Elaboração de um programa de curso de Biologia para o ensino médio.\n",
      "\n",
      "\n",
      "Práticas de Ensino de Biologia II\n",
      "Enfoque teórico e prático sobre as diferentes possibilidades de mediação em sala de aula a partir dos conteúdos biológicos. Relações do ensino de Biologia com as aplicações científicas, as questões éticas (bioética) e culturais e com o cotidiano dos estudantes do ensino médio. O livro didático de biologia no ensino médio. Imagens e ensino de biologia. Possibilidades de pesquisa em ensino de Biologia. Elaboração de planos de aula a partir de conteúdos ou temas estruturadores em biologia.\n",
      "\n",
      "\n",
      "\n",
      "M[ij]= 43  M[ii]= 46 M[jj]= 128 0.314028532609\n",
      "Práticas de Ensino de Matemática III\n",
      "Pesquisas e Tendências para a Educação Pesquisa para formação do professor-educador. Etnomatemática. Educação Matemática. Modelagem Matemática. História da Matemática. Planejamento e Avaliação associados aos conteúdos: Geometria Analítica Plana; Geometria Analítica Espacial; Sistemas de Equações Lineares; Matrizes e Determinantes; Números Complexos; Equações Algébricas.\n",
      "\n",
      "\n",
      "Tendências em Educação Matemática\n",
      "Etnomatemática. O campo de investigação que compreende História, Matemática e Educação: História da Matemática, História da Educação Matemática e História na Educação Matemática. Filosofia da Educação Matemática. Informática e Educação Matemática. Educação Matemática de Jovens e Adultos. Modelagem Matemática na Formação do Educador.\n",
      "\n",
      "\n",
      "\n",
      "M[ij]= 58  M[ii]= 78 M[jj]= 128 0.336939102564\n",
      "Práticas de Ensino de Matemática no Ensino Fundamental\n",
      "O papel da linguagem na educação matemática. A seleção de conteúdos no ensino fundamental. Modalidades didáticas: aula expositiva, utilização de mídia impressa, filmes e outros recursos audiovisuais, literatura, jogos, debates, estudos do meio, quadrinhos, músicas, entre outros. A experimentação e a matemática: os laboratórios de ensino. A resolução de problemas no ensino da matemática. Tendências e práticas de pesquisa em educação matemática. Avaliação em educação matemática.\n",
      "\n",
      "\n",
      "Tendências em Educação Matemática\n",
      "Etnomatemática. O campo de investigação que compreende História, Matemática e Educação: História da Matemática, História da Educação Matemática e História na Educação Matemática. Filosofia da Educação Matemática. Informática e Educação Matemática. Educação Matemática de Jovens e Adultos. Modelagem Matemática na Formação do Educador.\n",
      "\n",
      "\n",
      "\n",
      "M[ij]= 48  M[ii]= 48 M[jj]= 67 0.716417910448\n",
      "Projeto de Elementos Estruturais de Aeronaves I\n",
      "Introdução; Filosofias de projeto de estruturas aeronáuticas; Requisitos de certificação; Carregamentos em estruturas aeronáuticas; Tipos de abordagem de análises (analítica, computacional e experimental); Projeto estrutural de asas e superfícies; Projeto estrutural de fuselagens; Projeto estrutural de junções.\n",
      "\n",
      "\n",
      "Projeto de Elementos Estruturais de Aeronaves II\n",
      "Introdução; Filosofias de projeto de estruturas aeronáuticas; Requisitos de certificação; Espectros de carregamentos em estruturas aeronáuticas; Tipos de abordagem de análises (analítica, computacional e experimental); Projeto estrutural de asas e superfícies quanto à fadiga; Projeto estrutural de fuselagens quanto à fadiga; Projeto estrutural de junções quanto à fadiga.\n",
      "\n",
      "\n",
      "\n"
     ]
    }
   ],
   "source": [
    "#print I,J,M[I,J]\n",
    "coef = int;\n",
    "for k in range(I.size):\n",
    "    coef = float(M[I[k],J[k]]*M[I[k],J[k]])/float(M[I[k],I[k]]*M[J[k],J[k]])\n",
    "    ement = catalogo[I[k]][1].lower().split()\n",
    "    if 0.3 < coef < 2 and I[k] < J[k] and 'graduação' not in set(ement) and 'estágio' not in set(ement) and 'trabalho' not in set(ement) and 'tcc' not in set(ement):\n",
    "        print 'M[ij]=',M[I[k],J[k]],' M[ii]=',M[I[k],I[k]], 'M[jj]=',M[J[k],J[k]], coef\n",
    "        print catalogo[I[k]][1]\n",
    "        print catalogo[I[k]][colEmenta]\n",
    "        print '\\n'\n",
    "        print catalogo[J[k]][1]\n",
    "        print catalogo[J[k]][colEmenta]\n",
    "        print '\\n\\n'              "
   ]
  },
  {
   "cell_type": "code",
   "execution_count": null,
   "metadata": {
    "collapsed": true
   },
   "outputs": [],
   "source": []
  }
 ],
 "metadata": {
  "anaconda-cloud": {},
  "kernelspec": {
   "display_name": "Python [Root]",
   "language": "python",
   "name": "Python [Root]"
  },
  "language_info": {
   "codemirror_mode": {
    "name": "ipython",
    "version": 2
   },
   "file_extension": ".py",
   "mimetype": "text/x-python",
   "name": "python",
   "nbconvert_exporter": "python",
   "pygments_lexer": "ipython2",
   "version": "2.7.12"
  }
 },
 "nbformat": 4,
 "nbformat_minor": 0
}
