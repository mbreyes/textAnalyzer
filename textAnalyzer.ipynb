{
 "cells": [
  {
   "cell_type": "markdown",
   "metadata": {},
   "source": [
    "# Introdução\n",
    "\n",
    "O objetivo desse programa é procurar por disciplinas do catálogo da UFABC e identificar disciplinas similares.\n",
    "\n",
    "The stop-words module was installed from: https://pypi.python.org/pypi/stop-words#installation\n",
    "and using the command: pip install stop-words \n"
   ]
  },
  {
   "cell_type": "code",
   "execution_count": 1,
   "metadata": {
    "collapsed": false
   },
   "outputs": [],
   "source": [
    "#from remac import remover_acentos\n",
    "import string\n",
    "from stop_words import get_stop_words\n",
    "import csv"
   ]
  },
  {
   "cell_type": "markdown",
   "metadata": {},
   "source": [
    "Primeiramente obtitve o catálogo de disciplinas em formato excel, gentilmente fornecido pela Prof. Paula Tiba e sua equipe da Pró-Reitoria de Graduação. Exportei para formato csv, colocando como delimitador de campo \"tab\". O nome do arquivo é "
   ]
  },
  {
   "cell_type": "code",
   "execution_count": 2,
   "metadata": {
    "collapsed": true
   },
   "outputs": [],
   "source": [
    "filename = 'catalogo2015.csv'\n",
    "colSigla  = 0                     # coluna que contém as siglas das disciplinas\n",
    "colEmenta = 4                     # coluna com as ementas"
   ]
  },
  {
   "cell_type": "markdown",
   "metadata": {},
   "source": [
    "Para a identificação das disciplinas, compilamos todas as palavras de cada ementa e colocamos em um dicionário onde a chave é a palavra e o valor é o número de ocorrências da palavra na ementa. "
   ]
  },
  {
   "cell_type": "code",
   "execution_count": 3,
   "metadata": {
    "collapsed": true
   },
   "outputs": [],
   "source": [
    "def sortFreqDict(freqdict):\n",
    "    aux = [(freqdict[key], key) for key in freqdict]\n",
    "    aux.sort()\n",
    "    aux.reverse()\n",
    "    return aux"
   ]
  },
  {
   "cell_type": "markdown",
   "metadata": {},
   "source": [
    "Um dos problemas em lidar com textos em português são os acentos. Mas usando utf-8 tudo deveria ficar bem. Eu fiz dois testes, e esse primeiro deu uns problemas com o utf8..."
   ]
  },
  {
   "cell_type": "code",
   "execution_count": 4,
   "metadata": {
    "collapsed": false
   },
   "outputs": [],
   "source": [
    "#the code below gave problems with utf8\n",
    "#with open(filename, 'r') as myfile:\n",
    "    #wordstring = myfile.read().replace('\\n', '')\n",
    "#    wordstring = myfile.read()"
   ]
  },
  {
   "cell_type": "code",
   "execution_count": 5,
   "metadata": {
    "collapsed": true
   },
   "outputs": [],
   "source": [
    "catalogo = list(csv.reader(open(filename, 'rb'), delimiter='\\t'))"
   ]
  },
  {
   "cell_type": "markdown",
   "metadata": {},
   "source": [
    "Supostamente o código abaixo funcionou melhor, mas por algum motivo foi abandonado. Vou deixar aqui para uso futuro."
   ]
  },
  {
   "cell_type": "code",
   "execution_count": 6,
   "metadata": {
    "collapsed": true
   },
   "outputs": [],
   "source": [
    "#import codecs\n",
    "#with codecs.open(filename,'r',encoding='utf8') as f:\n",
    "#    wordstring = f.read()"
   ]
  },
  {
   "cell_type": "markdown",
   "metadata": {},
   "source": [
    "Lembro que uma das alternativas que eu havia pensado era remover os acentos. Mas acho que isso se deu por problemas em usar o utf8."
   ]
  },
  {
   "cell_type": "code",
   "execution_count": 44,
   "metadata": {
    "collapsed": false
   },
   "outputs": [
    {
     "name": "stdout",
     "output_type": "stream",
     "text": [
      "Contextualização histórica da emergência das teorias de relações internacionais. Matrizes filosóficas. Realismo. Idealismo. Debate clássico realismo versus idealismo. Escola inglesa. Behaviorismo. Debate metodológico. Neoliberalismo. Neorrealismo. Teoria da interdependência complexa. Neoinstitucionalismo. Cooperação e conflito. Sociedade internacional, anarquia. Regimes internacionais. Introdução aos sistemas de acionamentos elétricos; elementos de um sistema de acionamento elétrico; ponto de operação e estabilidade; operação motora e frenante de um sistema de acionamento; perdas no acionamento elétrico; operação e controle de máquinas de corrente alternada com tensão e freqüência variáveis para acionamentos elétricos; conversores de freqüência alimentados por tensão; algoritmos de geração de sinais PWM; simulação de acionamentos de potência: diodo, tiristor, GTO, transistor bipolar de potência, MOSFET e IGBT. Acumulação de energia por fotossínteses. Fluxos de energia nos ecossistemas. Características da lenha. Características do carvão vegetal. Acumulação de combustíveis fósseis. Origem do petróleo. Propriedades básicas dos reservatórios. Armazenamento de combustíveis em tanques. Acumulação de energia cinética e potencial. Molas. Acumuladores hidráulicos. Volantes de inércia. Acumuladores térmicos. Acumuladores de calor de baixa, moderada e elevada temperatura.acumuladores por mudança de fase. Caixas de rochas. Paredes de acumulação. Aquecimento de água. Acumuladores de energia elétrica. Ar comprimido. Acumulação bombeada. Flywheels. Baterias eletroquímicas. Armazenagem de energia em supercondutores e supercapacitores. Acumulação de energia em forma de hidrogênio. Tecnologias de produção de hidrogênio. Métodos de armazenamento de hidrogênio. Problemas e exercícios práticos. Estado, política e administração pública; Crise e reforma do Estado: as diversas respostas; A Nova Gestão Pública; Formas de responsabilização e accountability da administração pública; A experiência internacional da reforma do Estado; As experiências brasileiras da reforma do Estado; A agenda atual. Fundamentos de acústica e propagação de ondas sonoras aplicados a escoamentos internos e externos. Analogia acústica de Lighthill. Irradiação de ondas acústicas por superfície sólidas. Efeitos de escoamento uniforme e não uniforme na propagação de ondas acústicas. Física de geração de ruído por jatos de fluídos. Teoria de geração de ruído no bordo de fuga de asas. Caracterização e estimação de fontes de ruído encontradas em turbomáquinas e aeronaves. Técnicas de redução de ruído gerado por aeronaves. Sustenção; Teoria do perfil delgado; Condição de Kutta-Jukowiski; Método das singularidades (fontes e vórtices); Método de transpiração; Transformação conforme; Solução numérica: soluções da equação de Poisson e método dos painéis. Teoria dos perfis NACA. Esteira. Aerodinâmica em regime supersônico. Efeitos da Turbulência. Método da linha de sustentação. Método da superfície de sustentação. Técnicas de análise de escoamento hipersônico. Comportamento aeroelástico de veículos aeroespaciais e outras estruturas. Elasticidade estática e seu impacto no desempenho de superfícies de levantamento. Conceitos fundamentais de aerodinâmica não permanente e técnicas computacionais modernas. Aeroelasticidade dinâmica de uma seção típica de um veículo aeroespacial. Interação fluido-estrutura. Conhecimentos técnicos sobre aviões: Anatomia do avião, sistemas e instrumentos de voo; princípios de operação do grupo moto propulsor; limitações e informações operacionais. Teoria de voo: Princípios de voo de aviões; introdução à aerodinâmica; noções de desempenho e limitações humanas. Conhecimentos técnicos sobre helicópteros: anatomia do helicóptero, sistemas e instrumentos de voo; princípios de operação do grupo moto propulsor; limitações e informações operacionais. Teoria de voo: Princípios de voo de aeronaves de asas rotativas; introdução à aerodinâmica de helicópteros. Regulamentação aeronáutica: regras do ar; regras de voo visual; serviços de tráfego aéreo; fraseologia. Meteorologia: introdução à meteorologia; meteorologia aeronáutica; informações meteorológicas. Navegação aérea: aspectos práticos da navegação aérea e técnicas de navegação estimada; utilização de cartas aeronáuticas. Planejamento de voo e procedimentos operacionais: utilização dos sites de Consulta de Informações Aeronáuticas (AIS WEB) e da Rede de Meteorologia do Comando da Aeronáutica (REDEMET). Sistemas de Equações Lineares: Sistemas e matrizes; Matrizes escalonadas; Sistemas homogêneos; Posto e Nulidade de uma matriz. Espaço Vetorial: Definição e exemplos; Subespaços vetoriais; Combinação linear; Dependência e independência linear; Base de um espaç\n"
     ]
    }
   ],
   "source": [
    "todasEmentas=''\n",
    "len(catalogo)\n",
    "for k in range(1,len(catalogo)):\n",
    "    todasEmentas = todasEmentas + ' ' + catalogo[k][colEmenta]\n",
    "\n",
    "print todasEmentas[1:5000]     # mostrando o início das ementas\n"
   ]
  },
  {
   "cell_type": "code",
   "execution_count": 45,
   "metadata": {
    "collapsed": false
   },
   "outputs": [
    {
     "name": "stdout",
     "output_type": "stream",
     "text": [
      "contextualização histórica da emergência das teorias de relações internacionais matrizes filosóficas realismo idealismo debate clássico realismo versus idealismo escola inglesa behaviorismo debate metodológico neoliberalismo neorrealismo teoria da interdependência complexa neoinstitucionalismo cooperação e conflito sociedade internacional anarquia regimes internacionais introdução aos sistemas de acionamentos elétricos elementos de um sistema de acionamento elétrico ponto de operação e estabilidade operação motora e frenante de um sistema de acionamento perdas no acionamento elétrico operação e controle de máquinas de corrente alternada com tensão e freqüência variáveis para acionamentos elétricos conversores de freqüência alimentados por tensão algoritmos de geração de sinais pwm simulação de acionamentos de potência diodo tiristor gto transistor bipolar de potência mosfet e igbt acumulação de energia por fotossínteses fluxos de energia nos ecossistemas características da lenha características do carvão vegetal acumulação de combustíveis fósseis origem do petróleo propriedades básicas dos reservatórios armazenamento de combustíveis em tanques acumulação de energia cinética e potencial molas acumuladores hidráulicos volantes de inércia acumuladores térmicos acumuladores de calor de baixa moderada e elevada temperaturaacumuladores por mudança de fase caixas de rochas paredes de acumulação aquecimento de água acumuladores de energia elétrica ar comprimido acumulação bombeada flywheels baterias eletroquímicas armazenagem de energia em supercondutores e supercapacitores acumulação de energia em forma de hidrogênio tecnologias de produção de hidrogênio métodos de armazenamento de hidrogênio problemas e exercícios práticos estado política e administração pública crise e reforma do estado as diversas respostas a nova gestão pública formas de responsabilização e accountability da administração pública a experiência internacional da reforma do estado as experiências brasileiras da reforma do estado a agenda atual fundamentos de acústica e propagação de ondas sonoras aplicados a escoamentos internos e externos analogia acústica de lighthill irradiação de ondas acústicas por superfície sólidas efeitos de escoamento uniforme e não uniforme na propagação de ondas acústicas física de geração de ruído por jatos de fluídos teoria de geração de ruído no bordo de fuga de asas caracterização e estimação de fontes de ruído encontradas em turbomáquinas e aeronaves técnicas de redução de ruído gerado por aeronaves sustenção teoria do perfil delgado condição de kuttajukowiski método das singularidades fontes e vórtices método de transpiração transformação conforme solução numérica soluções da equação de poisson e método dos painéis teoria dos perfis naca esteira aerodinâmica em regime supersônico efeitos da turbulência método da linha de sustentação método da superfície de sustentação técnicas de análise de escoamento hipersônico comportamento aeroelástico de veículos aeroespaciais e outras estruturas elasticidade estática e seu impacto no desempenho de superfícies de levantamento conceitos fundamentais de aerodinâmica não permanente e técnicas computacionais modernas aeroelasticidade dinâmica de uma seção típica de um veículo aeroespacial interação fluidoestrutura conhecimentos técnicos sobre aviões anatomia do avião sistemas e instrumentos de voo princípios de operação do grupo moto propulsor limitações e informações operacionais teoria de voo princípios de voo de aviões introdução à aerodinâmica noções de desempenho e limitações humanas conhecimentos técnicos sobre helicópteros anatomia do helicóptero sistemas e instrumentos de voo princípios de operação do grupo moto propulsor limitações e informações operacionais teoria de voo princípios de voo de aeronaves de asas rotativas introdução à aerodinâmica de helicópteros regulamentação aeronáutica regras do ar regras de voo visual serviços de tráfego aéreo fraseologia meteorologia introdução à meteorologia meteorologia aeronáutica informações meteorológicas navegação aérea aspectos práticos da navegação aérea e técnicas de navegação estimada utilização de cartas aeronáuticas planejamento de voo e procedimentos operacionais utilização dos sites de consulta de informações aeronáuticas ais web e da rede de meteorologia do comando da aeronáutica redemet sistemas de equações lineares sistemas e matrizes matrizes escalonadas sistemas homogêneos posto e nulidade de uma matriz espaço vetorial definição e exemplos subespaços vetoriais combinação linear dependência e independência linear base de um espaço vetorial e mudança de base transformações lineares definição de transformação linear e exemplos núcleo e imagem de uma transformação \n"
     ]
    }
   ],
   "source": [
    "# removendo pontos, ponto-e-vírgula, etc\n",
    "todasEmentasLimpo = todasEmentas.translate(string.maketrans(\"\",\"\"), string.punctuation)\n",
    "todasEmentasLimpo = todasEmentasLimpo.lower()\n",
    "print todasEmentasLimpo[1:5000]\n"
   ]
  },
  {
   "cell_type": "code",
   "execution_count": 9,
   "metadata": {
    "collapsed": true
   },
   "outputs": [],
   "source": [
    "palavras = todasEmentasLimpo.split()                  # quebra a string em uma lista de palavras\n",
    "contagemPalavras = []                                 # inicia lista de palavras\n",
    "for w in palavras:                                   # loop para cada palavra\n",
    "    contagemPalavras.append(palavras.count(w))        # conta o número de vezes que cada palavra ocorre na lista"
   ]
  },
  {
   "cell_type": "markdown",
   "metadata": {},
   "source": [
    "## Este passo pode ser bastante demorado\n",
    "\n",
    "Nesse ponto temos uma lista (palavras) e uma lista de quantas vezes cada palavra ocorre (contagemPalavras). Vamos agora criar um dicionário com esses pares, e ordená-lo da mais frequente para a menos frequente. \n",
    "\n",
    "!!!Bastante demorado!!!! \n",
    "pode levar até 5 minutos para rodar."
   ]
  },
  {
   "cell_type": "code",
   "execution_count": 10,
   "metadata": {
    "collapsed": false
   },
   "outputs": [],
   "source": [
    "allPairs  =  dict(zip(palavras, contagemPalavras))    # Cria discionário com as palavras e as respectivas contagens\n",
    "sortPairs = sortFreqDict(allPairs)                    # usa a função definida no início para ordenar em ordem decrescente"
   ]
  },
  {
   "cell_type": "markdown",
   "metadata": {},
   "source": [
    "Por curiosidade, vamos visualizar as palavras mais frequentes"
   ]
  },
  {
   "cell_type": "code",
   "execution_count": 37,
   "metadata": {
    "collapsed": false
   },
   "outputs": [
    {
     "name": "stdout",
     "output_type": "stream",
     "text": [
      "1: de ==> 6597 vezes\n",
      "2: e ==> 4641 vezes\n",
      "3: da ==> 1231 vezes\n",
      "4: do ==> 1132 vezes\n",
      "5: a ==> 1093 vezes\n",
      "6: em ==> 738 vezes\n",
      "7: o ==> 707 vezes\n",
      "8: dos ==> 462 vezes\n",
      "9: para ==> 413 vezes\n",
      "10: no ==> 392 vezes\n",
      "11: das ==> 388 vezes\n",
      "12: sistemas ==> 383 vezes\n",
      "13: com ==> 314 vezes\n",
      "14: na ==> 304 vezes\n",
      "15: análise ==> 260 vezes\n",
      "16: as ==> 234 vezes\n",
      "17: desenvolvimento ==> 204 vezes\n",
      "18: um ==> 198 vezes\n",
      "19: introdução ==> 193 vezes\n",
      "20: os ==> 190 vezes\n"
     ]
    }
   ],
   "source": [
    "for k in range(20):\n",
    "    # just for visualization, let's see the mostr frequent words...\n",
    "    print str(k+1) + \": \" + str(sortPairs[k][1]) + ' ==> '+ str(sortPairs[k][0]) + ' vezes'\n",
    "    "
   ]
  },
  {
   "cell_type": "code",
   "execution_count": 42,
   "metadata": {
    "collapsed": false
   },
   "outputs": [],
   "source": [
    "NRemove = int(10)\n",
    "for k in range(NRemove):\n",
    "    del allPairs[sortPairs[k][1]]\n",
    "    \n",
    "#print \"Pairs\\n\" + str(allPairs)"
   ]
  },
  {
   "cell_type": "markdown",
   "metadata": {},
   "source": [
    "Gerando vetores para palavras frequentes. Tirado de http://stackoverflow.com/questions/10648490/removing-first-appearance-of-word-from-a-string"
   ]
  },
  {
   "cell_type": "code",
   "execution_count": 90,
   "metadata": {
    "collapsed": false
   },
   "outputs": [
    {
     "name": "stdout",
     "output_type": "stream",
     "text": [
      "['de', 'e', 'da', 'do', 'a', 'em', 'o', 'dos', 'para', 'no']\n",
      "ESHR022-14\n",
      "contextualização histórica da emergência das teorias de relações internacionais matrizes filosóficas realismo idealismo debate clássico realismo versus idealismo escola inglesa behaviorismo debate metodológico neoliberalismo neorrealismo teoria da interdependência complexa neoinstitucionalismo cooperação e conflito sociedade internacional anarquia regimes internacionais\n",
      "de\n",
      "e\n",
      "da\n",
      "do\n",
      "a\n",
      "em\n",
      "o\n",
      "dos\n",
      "para\n",
      "no\n",
      "cntxtulizçã históric  mrgênci s tris  rlçõs intrncinis mtrizs filsófics rlism ilism bt clássic rlism vrsus ilism scl ingls bhvirism bt mtlógic nlibrlism nrrlism tri  intrpndênci cmplx ninstitucinlism cprçã  cnflit sci intrncinl nrqui rgims intrncinis\n",
      "\n",
      "\n",
      "ESTA012-13\n",
      "introdução aos sistemas de acionamentos elétricos elementos de um sistema de acionamento elétrico ponto de operação e estabilidade operação motora e frenante de um sistema de acionamento perdas no acionamento elétrico operação e controle de máquinas de corrente alternada com tensão e freqüência variáveis para acionamentos elétricos conversores de freqüência alimentados por tensão algoritmos de geração de sinais pwm simulação de acionamentos de potência diodo tiristor gto transistor bipolar de potência mosfet e igbt\n",
      "de\n",
      "e\n",
      "da\n",
      "do\n",
      "a\n",
      "em\n",
      "o\n",
      "dos\n",
      "para\n",
      "no\n",
      "intrduçã s sistms  cinmnts létrics lmnts  um sistm  cinmnt létric pnt  prçã  stbili prçã mtr  frnnt  um sistm  cinmnt prs n cinmnt létric prçã  cntrl  máquins  crrnt ltrn cm tnsã  frqüênci vriávis pr cinmnts létrics cnvrsrs  frqüênci limnts pr tnsã lgritms  grçã  sinis pwm simulçã  cinmnts  ptênci di tiristr gt trnsistr biplr  ptênci msft  igbt\n",
      "\n",
      "\n",
      "ESZE002-13\n",
      "acumulação de energia por fotossínteses fluxos de energia nos ecossistemas características da lenha características do carvão vegetal acumulação de combustíveis fósseis origem do petróleo propriedades básicas dos reservatórios armazenamento de combustíveis em tanques acumulação de energia cinética e potencial molas acumuladores hidráulicos volantes de inércia acumuladores térmicos acumuladores de calor de baixa moderada e elevada temperaturaacumuladores por mudança de fase caixas de rochas paredes de acumulação aquecimento de água acumuladores de energia elétrica ar comprimido acumulação bombeada flywheels baterias eletroquímicas armazenagem de energia em supercondutores e supercapacitores acumulação de energia em forma de hidrogênio tecnologias de produção de hidrogênio métodos de armazenamento de hidrogênio problemas e exercícios práticos\n",
      "de\n",
      "e\n",
      "da\n",
      "do\n",
      "a\n",
      "em\n",
      "o\n",
      "dos\n",
      "para\n",
      "no\n",
      "cumulçã  nrgi pr ftssíntss fluxs  nrgi ns cssistms crctrístics  lnh crctrístics  crvã vgtl cumulçã  cmbustívis fóssis rigm  ptról prpris básics s rsrvtóris rmznmnt  cmbustívis m tnqus cumulçã  nrgi cinétic  ptncil mls cumulrs hidráulics vlnts  inérci cumulrs térmics cumulrs  clr  bix mr  lv tmprturcumulrs pr munç  fs cixs  rchs prs  cumulçã qucimnt  águ cumulrs  nrgi létric r cmprimi cumulçã bmb flywhls btris ltrquímics rmzngm  nrgi m suprcndutrs  suprcpcitrs cumulçã  nrgi m frm  hidrgêni tcnlgis  prduçã  hidrgêni méts  rmznmnt  hidrgêni prblms  xrcícis prátics\n",
      "\n",
      "\n",
      "ESZP041-14\n",
      "estado política e administração pública crise e reforma do estado as diversas respostas a nova gestão pública formas de responsabilização e accountability da administração pública a experiência internacional da reforma do estado as experiências brasileiras da reforma do estado a agenda atual\n",
      "de\n",
      "e\n",
      "da\n",
      "do\n",
      "a\n",
      "em\n",
      "o\n",
      "dos\n",
      "para\n",
      "no\n",
      "st plític  dministrçã públic cris  rfrm  st s divrss rspsts  nv gstã públic frms  rspnsbilizçã  ccuntbility  dministrçã públic  xpriênci intrncinl  rfrm  st s xpriêncis brsilirs  rfrm  st  gn tul\n",
      "\n",
      "\n",
      "ESZS020-13\n",
      "fundamentos de acústica e propagação de ondas sonoras aplicados a escoamentos internos e externos analogia acústica de lighthill irradiação de ondas acústicas por superfície sólidas efeitos de escoamento uniforme e não uniforme na propagação de ondas acústicas física de geração de ruído por jatos de fluídos teoria de geração de ruído no bordo de fuga de asas caracterização e estimação de fontes de ruído encontradas em turbomáquinas e aeronaves técnicas de redução de ruído gerado por aeronaves\n",
      "de\n",
      "e\n",
      "da\n",
      "do\n",
      "a\n",
      "em\n",
      "o\n",
      "dos\n",
      "para\n",
      "no\n",
      "funmnts  cústic  prpgçã  ns snrs plics  scmnts intrns  xtrns nlgi cústic  lighthill irrdiçã  ns cústics pr suprfíci sólis fits  scmnt unifrm  nã unifrm n prpgçã  ns cústics físic  grçã  ruí pr jts  fluís tri  grçã  ruí n br  fug  ss crctrizçã  stimçã  fnts  ruí ncntrs m turbmáquins  rnvs técnics  rduçã  ruí gr pr rnvs\n",
      "\n",
      "\n",
      "ESTS016-13\n",
      "sustenção teoria do perfil delgado condição de kuttajukowiski método das singularidades fontes e vórtices método de transpiração transformação conforme solução numérica soluções da equação de poisson e método dos painéis teoria dos perfis naca esteira aerodinâmica em regime supersônico efeitos da turbulência\n",
      "de\n",
      "e\n",
      "da\n",
      "do\n",
      "a\n",
      "em\n",
      "o\n",
      "dos\n",
      "para\n",
      "no\n",
      "sustnçã tri  prfil lg cndiçã  kuttjukwiski mét s singulris fnts  vórtics mét  trnspirçã trnsfrmçã cnfrm sluçã numéric sluçõs  quçã  pissn  mét s pinéis tri s prfis nc stir rdinâmic m rgim suprsônic fits  turbulênci\n",
      "\n",
      "\n",
      "ESZS019-13\n",
      "método da linha de sustentação método da superfície de sustentação técnicas de análise de escoamento hipersônico\n",
      "de\n",
      "e\n",
      "da\n",
      "do\n",
      "a\n",
      "em\n",
      "o\n",
      "dos\n",
      "para\n",
      "no\n",
      "mét  linh  sustntçã mét  suprfíci  sustntçã técnics  nális  scmnt hiprsônic\n",
      "\n",
      "\n",
      "ESTS012-13\n",
      "comportamento aeroelástico de veículos aeroespaciais e outras estruturas elasticidade estática e seu impacto no desempenho de superfícies de levantamento conceitos fundamentais de aerodinâmica não permanente e técnicas computacionais modernas aeroelasticidade dinâmica de uma seção típica de um veículo aeroespacial interação fluidoestrutura\n",
      "de\n",
      "e\n",
      "da\n",
      "do\n",
      "a\n",
      "em\n",
      "o\n",
      "dos\n",
      "para\n",
      "no\n",
      "cmprtmnt rlástic  vículs rspciis  utrs struturs lstici státic  su impct n smpnh  suprfícis  lvntmnt cncits funmntis  rdinâmic nã prmnnt  técnics cmputcinis mrns rlstici dinâmic  um sçã típic  um vícul rspcil intrçã fluistrutur\n",
      "\n",
      "\n",
      "ESTS002-13\n",
      "conhecimentos técnicos sobre aviões anatomia do avião sistemas e instrumentos de voo princípios de operação do grupo moto propulsor limitações e informações operacionais teoria de voo princípios de voo de aviões introdução à aerodinâmica noções de desempenho e limitações humanas\n",
      "de\n",
      "e\n",
      "da\n",
      "do\n",
      "a\n",
      "em\n",
      "o\n",
      "dos\n",
      "para\n",
      "no\n",
      "cnhcimnts técnics sbr viõs ntmi  viã sistms  instrumnts  v princípis  prçã  grup mt prpulsr limitçõs  infrmçõs prcinis tri  v princípis  v  viõs intrduçã à rdinâmic nçõs  smpnh  limitçõs humns\n",
      "\n",
      "\n"
     ]
    }
   ],
   "source": [
    "listaFreq = [sortPairs[k][1] for k in range(NRemove)]\n",
    "print listaFreq\n",
    "\n",
    "\n",
    "for k in range(1,10):\n",
    "    estaSigla  = catalogo[k][colSigla ] \n",
    "    estaEmenta = catalogo[k][colEmenta] \n",
    "    \n",
    "    estaEmentaLimpa = estaEmenta.translate(string.maketrans(\"\",\"\"), string.punctuation)\n",
    "    estaEmentaLimpa = estaEmentaLimpa.lower()\n",
    "    \n",
    "    \n",
    "    print estaSigla\n",
    "    print estaEmentaLimpa \n",
    "    \n",
    "    \n",
    "    for estaPalavraFreq in listaFreq:\n",
    "        print estaPalavraFreq\n",
    "        estaEmentaLimpa = estaEmentaLimpa.replace(estaPalavraFreq,\"\")\n",
    "        #estaEmentaLimpa = estaEmentaLimpa.replace(\"  \",\" \")\n",
    "        \n",
    "    \n",
    "    print estaEmentaLimpa\n",
    "    print '\\n'\n",
    "#    theseWords = catalogo[k][colEmenta].split()\n",
    "#    for j in theseWords:\n",
    "#        print j"
   ]
  },
  {
   "cell_type": "code",
   "execution_count": 14,
   "metadata": {
    "collapsed": false
   },
   "outputs": [
    {
     "name": "stdout",
     "output_type": "stream",
     "text": [
      "['a', ' b']\n"
     ]
    }
   ],
   "source": [
    "l = ['a',' b',' c',' d',' e']\n",
    "c_index = l.index(\" c\")\n",
    "l2 = l[:c_index]\n",
    "print l2"
   ]
  },
  {
   "cell_type": "code",
   "execution_count": null,
   "metadata": {
    "collapsed": true
   },
   "outputs": [],
   "source": []
  }
 ],
 "metadata": {
  "anaconda-cloud": {},
  "kernelspec": {
   "display_name": "Python [Root]",
   "language": "python",
   "name": "Python [Root]"
  },
  "language_info": {
   "codemirror_mode": {
    "name": "ipython",
    "version": 2
   },
   "file_extension": ".py",
   "mimetype": "text/x-python",
   "name": "python",
   "nbconvert_exporter": "python",
   "pygments_lexer": "ipython2",
   "version": "2.7.12"
  }
 },
 "nbformat": 4,
 "nbformat_minor": 0
}
