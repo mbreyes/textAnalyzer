{
 "cells": [
  {
   "cell_type": "markdown",
   "metadata": {},
   "source": [
    "# Introduction\n",
    "This is my first python notebook.\n",
    "It seems that I can use latex stuff in here.\n",
    "\n",
    "The stop-words module was installed from: https://pypi.python.org/pypi/stop-words#installation\n",
    "and using the command: pip install stop-words \n"
   ]
  },
  {
   "cell_type": "code",
   "execution_count": 1,
   "metadata": {
    "collapsed": false
   },
   "outputs": [],
   "source": [
    "from remac import remover_acentos\n",
    "import string\n",
    "from stop_words import get_stop_words"
   ]
  },
  {
   "cell_type": "markdown",
   "metadata": {},
   "source": [
    "Primeiramente criei um catálogo truncado de disciplinas para fazer os primeiros testes de forma mais rápida. "
   ]
  },
  {
   "cell_type": "code",
   "execution_count": 2,
   "metadata": {
    "collapsed": true
   },
   "outputs": [],
   "source": [
    "filename = 'catalogo-truncado.txt'"
   ]
  },
  {
   "cell_type": "markdown",
   "metadata": {},
   "source": [
    "Criando uma função para colocar o dicionário em ordem alfabética."
   ]
  },
  {
   "cell_type": "code",
   "execution_count": 3,
   "metadata": {
    "collapsed": true
   },
   "outputs": [],
   "source": [
    "def sortFreqDict(freqdict):\n",
    "    aux = [(freqdict[key], key) for key in freqdict]\n",
    "    aux.sort()\n",
    "    aux.reverse()\n",
    "    return aux"
   ]
  },
  {
   "cell_type": "markdown",
   "metadata": {},
   "source": [
    "Um dos problemas em lidar com textos em português são os acentos. Mas usando utf-8 tudo deveria ficar bem. Eu fiz dois testes, e esse primeiro deu uns problemas com o utf8..."
   ]
  },
  {
   "cell_type": "code",
   "execution_count": 5,
   "metadata": {
    "collapsed": true
   },
   "outputs": [],
   "source": [
    "# the code below gave problems with utf8\n",
    "with open(filename, 'r') as myfile:\n",
    "    #wordstring = myfile.read().replace('\\n', '')\n",
    "    wordstring = myfile.read()"
   ]
  },
  {
   "cell_type": "markdown",
   "metadata": {},
   "source": [
    "Supostamente o código abaixo funcionou melhor, mas por algum motivo foi abandonado. Vou deixar aqui para uso futuro."
   ]
  },
  {
   "cell_type": "code",
   "execution_count": 6,
   "metadata": {
    "collapsed": true
   },
   "outputs": [],
   "source": [
    "#import codecs\n",
    "#with codecs.open(filename,'r',encoding='utf8') as f:\n",
    "#    wordstring = f.read()"
   ]
  },
  {
   "cell_type": "markdown",
   "metadata": {},
   "source": [
    "Lembro que uma das alternativas que eu havia pensado era remover os acentos. Mas acho que isso se deu por problemas em usar o utf8."
   ]
  },
  {
   "cell_type": "code",
   "execution_count": 7,
   "metadata": {
    "collapsed": true
   },
   "outputs": [],
   "source": [
    "# removendo acentuaçao pois temos palavras em português e em inglês - uniformização\n",
    "wordstring = remover_acentos(wordstring)"
   ]
  },
  {
   "cell_type": "code",
   "execution_count": 8,
   "metadata": {
    "collapsed": true
   },
   "outputs": [],
   "source": [
    "# removendo pontos, ponto-e-vírgula, etc\n",
    "wordstring = wordstring.translate(string.maketrans(\"\",\"\"), string.punctuation)\n"
   ]
  },
  {
   "cell_type": "code",
   "execution_count": 9,
   "metadata": {
    "collapsed": true
   },
   "outputs": [],
   "source": [
    "#import io  \n",
    "#with io.open(filename,'w',encoding='utf8') as f:\n",
    "#    f.write(wordstring)\n",
    "#print wordstring\n"
   ]
  },
  {
   "cell_type": "code",
   "execution_count": 10,
   "metadata": {
    "collapsed": true
   },
   "outputs": [],
   "source": [
    "#wordstring = 'it was the best of times it was the worst of times '\n",
    "#wordstring += 'it was the age of wisdom it was the age of foolishness'\n"
   ]
  },
  {
   "cell_type": "code",
   "execution_count": 11,
   "metadata": {
    "collapsed": true
   },
   "outputs": [],
   "source": [
    "wordlist = wordstring.split()\n",
    "wordfreq = []\n",
    "for w in wordlist:\n",
    "    wordfreq.append(wordlist.count(w))"
   ]
  },
  {
   "cell_type": "code",
   "execution_count": 21,
   "metadata": {
    "collapsed": false
   },
   "outputs": [
    {
     "name": "stdout",
     "output_type": "stream",
     "text": [
      "<type 'dict'>\n",
      "0de\n",
      "1e\n",
      "2Bibliografia\n",
      "3da\n",
      "4p\n",
      "5Sao\n",
      "6Paulo\n",
      "7A\n",
      "8a\n",
      "9ed\n"
     ]
    }
   ],
   "source": [
    "#allPairs =  str(zip(wordlist, wordfreq)) # náo funcionou porque retorna string\n",
    "allPairs =  dict(zip(wordlist, wordfreq))\n",
    "print str(type(allPairs)) # só imprime na tela o tipo de variável\n",
    "allPairs = sortFreqDict(allPairs)\n",
    "\n",
    "for k in range(10):\n",
    "    mostFreq = allPairs[k];\n",
    "    mostFreq = mostFreq[1];\n",
    "    print str(k)  + str(mostFreq)\n",
    "\n",
    "#myAllPairs = mySortFreqDict(allPairs)\n",
    "#allPairs = [(allPairs[key], key) for key in allPairs]\n",
    "#print str(type(allPairs))\n",
    "#allPairs.size\n",
    "#print allPairs[0:2][0:2]\n",
    "#aux = zip(allPairs[0:10])\n",
    "\n",
    "#print aux.index(\"de\")\n",
    "\n",
    "#print aux\n",
    "#my_dict = {'x':1, 'y':2, 'z':3}\n",
    "#dict((value, key) for key, value in my_dict.iteritems())\n",
    "#my_dict.iteritems()\n",
    "\n",
    "\n",
    "\n",
    "#l = ['a',' b',' c',' d',' e']\n",
    "#c_index = l.index(\" c\")\n",
    "#l2 = l[:c_index]\n",
    "#print l2"
   ]
  },
  {
   "cell_type": "code",
   "execution_count": null,
   "metadata": {
    "collapsed": false
   },
   "outputs": [],
   "source": [
    "#print \"String\\n\" + wordstring +\"\\n\"\n",
    "#print \"List\\n\" + str(wordlist) + \"\\n\"\n",
    "#print \"Frequencies\\n\" + str(wordfreq) + \"\\n\"\n",
    "print \"Pairs\\n\" + str(allPairs)"
   ]
  },
  {
   "cell_type": "code",
   "execution_count": null,
   "metadata": {
    "collapsed": true
   },
   "outputs": [],
   "source": []
  },
  {
   "cell_type": "code",
   "execution_count": null,
   "metadata": {
    "collapsed": true
   },
   "outputs": [],
   "source": []
  }
 ],
 "metadata": {
  "anaconda-cloud": {},
  "kernelspec": {
   "display_name": "Python [Root]",
   "language": "python",
   "name": "Python [Root]"
  },
  "language_info": {
   "codemirror_mode": {
    "name": "ipython",
    "version": 2
   },
   "file_extension": ".py",
   "mimetype": "text/x-python",
   "name": "python",
   "nbconvert_exporter": "python",
   "pygments_lexer": "ipython2",
   "version": "2.7.12"
  }
 },
 "nbformat": 4,
 "nbformat_minor": 0
}
